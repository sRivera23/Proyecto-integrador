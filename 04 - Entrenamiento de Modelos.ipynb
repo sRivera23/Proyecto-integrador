{
  "nbformat": 4,
  "nbformat_minor": 0,
  "metadata": {
    "colab": {
      "provenance": []
    },
    "kernelspec": {
      "name": "python3",
      "display_name": "Python 3"
    },
    "language_info": {
      "name": "python"
    }
  },
  "cells": [
    {
      "cell_type": "code",
      "source": [
        "!pip install iterative-stratification"
      ],
      "metadata": {
        "colab": {
          "base_uri": "https://localhost:8080/"
        },
        "id": "Ds8JVKeP0s0i",
        "outputId": "992944e6-8aca-4fb0-901e-88386d7f7f8e"
      },
      "execution_count": null,
      "outputs": [
        {
          "output_type": "stream",
          "name": "stdout",
          "text": [
            "Collecting iterative-stratification\n",
            "  Downloading iterative_stratification-0.1.9-py3-none-any.whl.metadata (1.3 kB)\n",
            "Requirement already satisfied: numpy in /usr/local/lib/python3.10/dist-packages (from iterative-stratification) (1.26.4)\n",
            "Requirement already satisfied: scipy in /usr/local/lib/python3.10/dist-packages (from iterative-stratification) (1.13.1)\n",
            "Requirement already satisfied: scikit-learn in /usr/local/lib/python3.10/dist-packages (from iterative-stratification) (1.5.2)\n",
            "Requirement already satisfied: joblib>=1.2.0 in /usr/local/lib/python3.10/dist-packages (from scikit-learn->iterative-stratification) (1.4.2)\n",
            "Requirement already satisfied: threadpoolctl>=3.1.0 in /usr/local/lib/python3.10/dist-packages (from scikit-learn->iterative-stratification) (3.5.0)\n",
            "Downloading iterative_stratification-0.1.9-py3-none-any.whl (8.5 kB)\n",
            "Installing collected packages: iterative-stratification\n",
            "Successfully installed iterative-stratification-0.1.9\n"
          ]
        }
      ]
    },
    {
      "cell_type": "code",
      "execution_count": null,
      "metadata": {
        "id": "SlqqxhMRQiOd",
        "colab": {
          "base_uri": "https://localhost:8080/"
        },
        "outputId": "fc118c3b-08ea-4c2f-f35c-0a2db83f581c"
      },
      "outputs": [
        {
          "output_type": "stream",
          "name": "stderr",
          "text": [
            "/usr/local/lib/python3.10/dist-packages/dask/dataframe/__init__.py:42: FutureWarning: \n",
            "Dask dataframe query planning is disabled because dask-expr is not installed.\n",
            "\n",
            "You can install it with `pip install dask[dataframe]` or `conda install dask`.\n",
            "This will raise in a future version.\n",
            "\n",
            "  warnings.warn(msg, FutureWarning)\n"
          ]
        }
      ],
      "source": [
        "import pandas as pd\n",
        "import numpy as np\n",
        "from sklearn.model_selection import train_test_split, KFold, StratifiedKFold, GridSearchCV, ParameterGrid, cross_val_score\n",
        "from sklearn.metrics import accuracy_score, classification_report, confusion_matrix, ConfusionMatrixDisplay, roc_curve, roc_auc_score, f1_score, make_scorer\n",
        "from sklearn import tree, ensemble, neighbors\n",
        "from sklearn.neighbors import KNeighborsClassifier, RadiusNeighborsClassifier\n",
        "from sklearn.linear_model import LogisticRegression\n",
        "from sklearn.ensemble import RandomForestClassifier, GradientBoostingClassifier, ExtraTreesClassifier, AdaBoostClassifier\n",
        "from sklearn.svm import SVC\n",
        "import xgboost as xgb\n",
        "import lightgbm as lgb\n",
        "from iterstrat.ml_stratifiers import MultilabelStratifiedKFold\n",
        "from sklearn.naive_bayes import GaussianNB\n",
        "from sklearn.tree import DecisionTreeClassifier\n",
        "from sklearn.neural_network import MLPClassifier\n",
        "from sklearn.multioutput import MultiOutputClassifier\n",
        "import matplotlib.pyplot as plt\n",
        "import seaborn as sns\n",
        "from google.colab import drive\n",
        "from sklearn.model_selection import StratifiedKFold"
      ]
    },
    {
      "cell_type": "code",
      "source": [
        "drive.mount('/content/drive')"
      ],
      "metadata": {
        "colab": {
          "base_uri": "https://localhost:8080/"
        },
        "id": "rJ9IPyV9Qjdy",
        "outputId": "08bb0272-53b9-42e5-dc56-9d8923a85ef3"
      },
      "execution_count": null,
      "outputs": [
        {
          "output_type": "stream",
          "name": "stdout",
          "text": [
            "Mounted at /content/drive\n"
          ]
        }
      ]
    },
    {
      "cell_type": "markdown",
      "source": [
        "Rutas Emanuel:\n"
      ],
      "metadata": {
        "id": "ssXEtRseP2NX"
      }
    },
    {
      "cell_type": "code",
      "source": [
        "x_variables = pd.read_csv('/content/drive/MyDrive/Colab Notebooks/AMP/X_selected')\n",
        "y_variables = pd.read_csv('/content/drive/MyDrive/Colab Notebooks/AMP/df_final.csv')\n",
        "more_x_variables = pd.read_csv('/content/drive/MyDrive/Colab Notebooks/AMP/df_x_200.csv')\n",
        "\n",
        "\n",
        "y_variables = y_variables.iloc[:,2:]"
      ],
      "metadata": {
        "id": "pc9khbHeSby8"
      },
      "execution_count": null,
      "outputs": []
    },
    {
      "cell_type": "markdown",
      "source": [
        "Rutas Santiago:"
      ],
      "metadata": {
        "id": "Td6wTUPrP6s_"
      }
    },
    {
      "cell_type": "code",
      "source": [
        "x_variables = pd.read_csv('/content/drive/MyDrive/Colab Notebooks/Laboratorio Integrado I/Variables predictoras/X_new_selected')\n",
        "y_variables = pd.read_csv('/content/drive/MyDrive/Colab Notebooks/Laboratorio Integrado I/Variables objetivo/df_final.csv')\n",
        "more_x_variables = pd.read_csv('/content/drive/MyDrive/Colab Notebooks/Laboratorio Integrado I/Variables predictoras/df_x_200.csv')\n",
        "\n",
        "y_variables = y_variables.iloc[:,2:]"
      ],
      "metadata": {
        "id": "9jQYJZUrP4l5"
      },
      "execution_count": null,
      "outputs": []
    },
    {
      "cell_type": "code",
      "source": [
        "#División inicial en 80% para entrenamiento y 20% para validación final\n",
        "X_train_temp, X_val, y_train_temp, y_val = train_test_split(more_x_variables, y_variables, test_size=0.20, random_state=42)\n",
        "\n",
        "#Fase1\n",
        "y_antimicrobiano = y_train_temp['Antimicrobiano']\n",
        "\n",
        "#Fase2\n",
        "y_antiMCT = y_train_temp[['Anticancerigeno', 'Antitumoral']]\n",
        "\n",
        "#Fase3\n",
        "y_functionalities = y_train_temp[['Antifúngico', 'Antiviral', 'Antibacteriano', 'Anti Gram +', 'Anti Gram -', 'AntiVIH', 'Antiparasitario']]"
      ],
      "metadata": {
        "id": "nx0pbbpdSu0F"
      },
      "execution_count": null,
      "outputs": []
    },
    {
      "cell_type": "code",
      "source": [
        "#Conjuntos de validación\n",
        "\n",
        "y_val_phase1 = y_val['Antimicrobiano']\n",
        "y_val_phase2 = y_val[['Anticancerigeno', 'Antitumoral']]\n",
        "y_val_phase3 = y_val[['Antifúngico', 'Antiviral', 'Antibacteriano', 'Anti Gram +', 'Anti Gram -', 'AntiVIH', 'Antiparasitario']]"
      ],
      "metadata": {
        "id": "dbI90nPIIylN"
      },
      "execution_count": null,
      "outputs": []
    },
    {
      "cell_type": "markdown",
      "source": [
        "## Fase 1\n"
      ],
      "metadata": {
        "id": "7PLNnsvBSG4Z"
      }
    },
    {
      "cell_type": "code",
      "source": [
        "models = {\n",
        "    'Random Forest': RandomForestClassifier(),\n",
        "    'Logistic': LogisticRegression(max)\n",
        "}\n",
        "\n",
        "for random_state in [42]:\n",
        "    print(f'\\nRandom State: {random_state}')\n",
        "\n",
        "    X_train, X_test, y_train, y_test = train_test_split(X_train_temp, y_antimicrobiano, test_size=0.3, random_state=random_state)\n",
        "\n",
        "    for model_name, model in models.items():\n",
        "        model.set_params(random_state=random_state)  # Establecer random_state si aplica\n",
        "        model.fit(X_train, y_train)\n",
        "        predictions = model.predict(X_test)\n",
        "        f1 = f1_score(y_test, predictions)\n",
        "        print(f'{model_name} - F1 Score: {f1:.2f}')\n",
        "        report = classification_report(y_test, predictions, target_names=['Clase 0', 'Clase 1'])\n",
        "        print(report)\n",
        "        predictions_val = model.predict(X_val)\n",
        "        f1_val = f1_score(y_val_phase1, predictions_val)\n",
        "        print(\"F1 en conjunto de validación\", classification_report(y_val_phase1, predictions_val, target_names=['Clase 0', 'Clase 1']))"
      ],
      "metadata": {
        "id": "-191tRWZedHD",
        "colab": {
          "base_uri": "https://localhost:8080/"
        },
        "outputId": "3f971eaa-1082-4a2c-fdb9-6ba7c76df0bd"
      },
      "execution_count": null,
      "outputs": [
        {
          "output_type": "stream",
          "name": "stdout",
          "text": [
            "\n",
            "Random State: 42\n",
            "Random Forest - F1 Score: 0.93\n",
            "              precision    recall  f1-score   support\n",
            "\n",
            "     Clase 0       0.90      0.92      0.91      4386\n",
            "     Clase 1       0.93      0.92      0.93      5416\n",
            "\n",
            "    accuracy                           0.92      9802\n",
            "   macro avg       0.92      0.92      0.92      9802\n",
            "weighted avg       0.92      0.92      0.92      9802\n",
            "\n",
            "F1 en conjunto de validación               precision    recall  f1-score   support\n",
            "\n",
            "     Clase 0       0.90      0.92      0.91      3659\n",
            "     Clase 1       0.93      0.92      0.93      4509\n",
            "\n",
            "    accuracy                           0.92      8168\n",
            "   macro avg       0.92      0.92      0.92      8168\n",
            "weighted avg       0.92      0.92      0.92      8168\n",
            "\n",
            "Logistic - F1 Score: 0.89\n",
            "              precision    recall  f1-score   support\n",
            "\n",
            "     Clase 0       0.85      0.87      0.86      4386\n",
            "     Clase 1       0.89      0.88      0.89      5416\n",
            "\n",
            "    accuracy                           0.87      9802\n",
            "   macro avg       0.87      0.87      0.87      9802\n",
            "weighted avg       0.87      0.87      0.87      9802\n",
            "\n",
            "F1 en conjunto de validación               precision    recall  f1-score   support\n",
            "\n",
            "     Clase 0       0.86      0.87      0.86      3659\n",
            "     Clase 1       0.90      0.88      0.89      4509\n",
            "\n",
            "    accuracy                           0.88      8168\n",
            "   macro avg       0.88      0.88      0.88      8168\n",
            "weighted avg       0.88      0.88      0.88      8168\n",
            "\n"
          ]
        },
        {
          "output_type": "stream",
          "name": "stderr",
          "text": [
            "/usr/local/lib/python3.10/dist-packages/sklearn/linear_model/_logistic.py:469: ConvergenceWarning: lbfgs failed to converge (status=1):\n",
            "STOP: TOTAL NO. of ITERATIONS REACHED LIMIT.\n",
            "\n",
            "Increase the number of iterations (max_iter) or scale the data as shown in:\n",
            "    https://scikit-learn.org/stable/modules/preprocessing.html\n",
            "Please also refer to the documentation for alternative solver options:\n",
            "    https://scikit-learn.org/stable/modules/linear_model.html#logistic-regression\n",
            "  n_iter_i = _check_optimize_result(\n"
          ]
        }
      ]
    },
    {
      "cell_type": "code",
      "source": [
        "from sklearn.metrics import roc_curve, auc\n",
        "\n",
        "for model_name, model in models.items():\n",
        "    y_prob = model.predict_proba(X_test)[:, 1]\n",
        "    fpr, tpr, _ = roc_curve(y_test, y_prob)\n",
        "    roc_auc = auc(fpr, tpr)\n",
        "\n",
        "    plt.figure()\n",
        "    plt.plot(fpr, tpr, color='blue', lw=2, label=f'ROC curve (area = {roc_auc:.2f})')\n",
        "    plt.plot([0, 1], [0, 1], color='gray', lw=2, linestyle='--')\n",
        "    plt.title(f'Curva ROC - {model_name}')\n",
        "    plt.xlabel('Tasa de Falsos Positivos')\n",
        "    plt.ylabel('Tasa de Verdaderos Positivos')\n",
        "    plt.legend(loc='lower right')\n",
        "    plt.show()"
      ],
      "metadata": {
        "colab": {
          "base_uri": "https://localhost:8080/",
          "height": 927
        },
        "id": "OQQXIpLyO8s4",
        "outputId": "2c31dbd9-c15e-4480-e28a-e9a433b0379d"
      },
      "execution_count": null,
      "outputs": [
        {
          "output_type": "display_data",
          "data": {
            "text/plain": [
              "<Figure size 640x480 with 1 Axes>"
            ],
            "image/png": "[encoded data removed]"
          },
          "metadata": {}
        },
        {
          "output_type": "display_data",
          "data": {
            "text/plain": [
              "<Figure size 640x480 with 1 Axes>"
            ],
            "image/png": "[encoded data removed]"
          },
          "metadata": {}
        }
      ]
    },
    {
      "cell_type": "code",
      "source": [
        "models = {\n",
        "    'Random Forest': RandomForestClassifier(),\n",
        "    'Logistic': LogisticRegression()\n",
        "}\n",
        "\n",
        "# Parámetros generales\n",
        "n_splits = 5\n",
        "random_state = 42\n",
        "stratified_kf = StratifiedKFold(n_splits=n_splits, shuffle=True, random_state=random_state)\n",
        "\n",
        "# Realiza StratifiedKFold\n",
        "for random_state in [42]:\n",
        "    print(f'\\nRandom State: {random_state}')\n",
        "\n",
        "    for model_name, model in models.items():\n",
        "        print(f'\\nModelo: {model_name}')\n",
        "        fold_scores = []\n",
        "\n",
        "        for fold, (train_idx, test_idx) in enumerate(stratified_kf.split(X_train_temp, y_antimicrobiano)):\n",
        "            print(f'\\nFold {fold + 1}/{n_splits}')\n",
        "\n",
        "            # Usa .iloc para seleccionar filas por posición\n",
        "            X_train, X_test = X_train_temp.iloc[train_idx], X_train_temp.iloc[test_idx]\n",
        "            y_train, y_test = y_antimicrobiano.iloc[train_idx], y_antimicrobiano.iloc[test_idx]\n",
        "\n",
        "            # Configura el random_state si aplica\n",
        "            if hasattr(model, 'random_state'):\n",
        "                model.set_params(random_state=random_state)\n",
        "\n",
        "            # Entrena el modelo\n",
        "            model.fit(X_train, y_train)\n",
        "            predictions = model.predict(X_test)\n",
        "\n",
        "            # Métricas\n",
        "            f1 = f1_score(y_test, predictions)\n",
        "            fold_scores.append(f1)\n",
        "            print(f'F1 Score (Fold {fold + 1}): {f1:.2f}')\n",
        "\n",
        "            # Reporte por fold\n",
        "            report = classification_report(y_test, predictions, target_names=['Clase 0', 'Clase 1'])\n",
        "            print(report)\n",
        "\n",
        "        # Promedio de F1 Score\n",
        "        mean_f1 = sum(fold_scores) / len(fold_scores)\n",
        "        print(f'\\n{model_name} - Promedio F1 Score: {mean_f1:.2f}')\n"
      ],
      "metadata": {
        "colab": {
          "base_uri": "https://localhost:8080/"
        },
        "id": "qrK9WcxoRRlo",
        "outputId": "9a83773a-77bb-4c72-a14e-8d8fcc30a998"
      },
      "execution_count": null,
      "outputs": [
        {
          "output_type": "stream",
          "name": "stdout",
          "text": [
            "\n",
            "Random State: 42\n",
            "\n",
            "Modelo: Random Forest\n",
            "\n",
            "Fold 1/5\n",
            "F1 Score (Fold 1): 0.92\n",
            "              precision    recall  f1-score   support\n",
            "\n",
            "     Clase 0       0.89      0.93      0.91      2914\n",
            "     Clase 1       0.94      0.91      0.92      3621\n",
            "\n",
            "    accuracy                           0.92      6535\n",
            "   macro avg       0.92      0.92      0.92      6535\n",
            "weighted avg       0.92      0.92      0.92      6535\n",
            "\n",
            "\n",
            "Fold 2/5\n",
            "F1 Score (Fold 2): 0.92\n",
            "              precision    recall  f1-score   support\n",
            "\n",
            "     Clase 0       0.89      0.91      0.90      2915\n",
            "     Clase 1       0.93      0.91      0.92      3620\n",
            "\n",
            "    accuracy                           0.91      6535\n",
            "   macro avg       0.91      0.91      0.91      6535\n",
            "weighted avg       0.91      0.91      0.91      6535\n",
            "\n",
            "\n",
            "Fold 3/5\n",
            "F1 Score (Fold 3): 0.93\n",
            "              precision    recall  f1-score   support\n",
            "\n",
            "     Clase 0       0.90      0.93      0.92      2914\n",
            "     Clase 1       0.94      0.92      0.93      3620\n",
            "\n",
            "    accuracy                           0.92      6534\n",
            "   macro avg       0.92      0.92      0.92      6534\n",
            "weighted avg       0.92      0.92      0.92      6534\n",
            "\n",
            "\n",
            "Fold 4/5\n",
            "F1 Score (Fold 4): 0.93\n",
            "              precision    recall  f1-score   support\n",
            "\n",
            "     Clase 0       0.90      0.92      0.91      2914\n",
            "     Clase 1       0.94      0.92      0.93      3620\n",
            "\n",
            "    accuracy                           0.92      6534\n",
            "   macro avg       0.92      0.92      0.92      6534\n",
            "weighted avg       0.92      0.92      0.92      6534\n",
            "\n",
            "\n",
            "Fold 5/5\n",
            "F1 Score (Fold 5): 0.93\n",
            "              precision    recall  f1-score   support\n",
            "\n",
            "     Clase 0       0.91      0.91      0.91      2914\n",
            "     Clase 1       0.93      0.93      0.93      3620\n",
            "\n",
            "    accuracy                           0.92      6534\n",
            "   macro avg       0.92      0.92      0.92      6534\n",
            "weighted avg       0.92      0.92      0.92      6534\n",
            "\n",
            "\n",
            "Random Forest - Promedio F1 Score: 0.93\n",
            "\n",
            "Modelo: Logistic\n",
            "\n",
            "Fold 1/5\n"
          ]
        },
        {
          "output_type": "stream",
          "name": "stderr",
          "text": [
            "/usr/local/lib/python3.10/dist-packages/sklearn/linear_model/_logistic.py:469: ConvergenceWarning: lbfgs failed to converge (status=1):\n",
            "STOP: TOTAL NO. of ITERATIONS REACHED LIMIT.\n",
            "\n",
            "Increase the number of iterations (max_iter) or scale the data as shown in:\n",
            "    https://scikit-learn.org/stable/modules/preprocessing.html\n",
            "Please also refer to the documentation for alternative solver options:\n",
            "    https://scikit-learn.org/stable/modules/linear_model.html#logistic-regression\n",
            "  n_iter_i = _check_optimize_result(\n"
          ]
        },
        {
          "output_type": "stream",
          "name": "stdout",
          "text": [
            "F1 Score (Fold 1): 0.88\n",
            "              precision    recall  f1-score   support\n",
            "\n",
            "     Clase 0       0.85      0.87      0.86      2914\n",
            "     Clase 1       0.89      0.87      0.88      3621\n",
            "\n",
            "    accuracy                           0.87      6535\n",
            "   macro avg       0.87      0.87      0.87      6535\n",
            "weighted avg       0.87      0.87      0.87      6535\n",
            "\n",
            "\n",
            "Fold 2/5\n"
          ]
        },
        {
          "output_type": "stream",
          "name": "stderr",
          "text": [
            "/usr/local/lib/python3.10/dist-packages/sklearn/linear_model/_logistic.py:469: ConvergenceWarning: lbfgs failed to converge (status=1):\n",
            "STOP: TOTAL NO. of ITERATIONS REACHED LIMIT.\n",
            "\n",
            "Increase the number of iterations (max_iter) or scale the data as shown in:\n",
            "    https://scikit-learn.org/stable/modules/preprocessing.html\n",
            "Please also refer to the documentation for alternative solver options:\n",
            "    https://scikit-learn.org/stable/modules/linear_model.html#logistic-regression\n",
            "  n_iter_i = _check_optimize_result(\n"
          ]
        },
        {
          "output_type": "stream",
          "name": "stdout",
          "text": [
            "F1 Score (Fold 2): 0.88\n",
            "              precision    recall  f1-score   support\n",
            "\n",
            "     Clase 0       0.85      0.86      0.85      2915\n",
            "     Clase 1       0.89      0.87      0.88      3620\n",
            "\n",
            "    accuracy                           0.87      6535\n",
            "   macro avg       0.87      0.87      0.87      6535\n",
            "weighted avg       0.87      0.87      0.87      6535\n",
            "\n",
            "\n",
            "Fold 3/5\n"
          ]
        },
        {
          "output_type": "stream",
          "name": "stderr",
          "text": [
            "/usr/local/lib/python3.10/dist-packages/sklearn/linear_model/_logistic.py:469: ConvergenceWarning: lbfgs failed to converge (status=1):\n",
            "STOP: TOTAL NO. of ITERATIONS REACHED LIMIT.\n",
            "\n",
            "Increase the number of iterations (max_iter) or scale the data as shown in:\n",
            "    https://scikit-learn.org/stable/modules/preprocessing.html\n",
            "Please also refer to the documentation for alternative solver options:\n",
            "    https://scikit-learn.org/stable/modules/linear_model.html#logistic-regression\n",
            "  n_iter_i = _check_optimize_result(\n"
          ]
        },
        {
          "output_type": "stream",
          "name": "stdout",
          "text": [
            "F1 Score (Fold 3): 0.89\n",
            "              precision    recall  f1-score   support\n",
            "\n",
            "     Clase 0       0.85      0.88      0.86      2914\n",
            "     Clase 1       0.90      0.87      0.89      3620\n",
            "\n",
            "    accuracy                           0.88      6534\n",
            "   macro avg       0.87      0.88      0.87      6534\n",
            "weighted avg       0.88      0.88      0.88      6534\n",
            "\n",
            "\n",
            "Fold 4/5\n"
          ]
        },
        {
          "output_type": "stream",
          "name": "stderr",
          "text": [
            "/usr/local/lib/python3.10/dist-packages/sklearn/linear_model/_logistic.py:469: ConvergenceWarning: lbfgs failed to converge (status=1):\n",
            "STOP: TOTAL NO. of ITERATIONS REACHED LIMIT.\n",
            "\n",
            "Increase the number of iterations (max_iter) or scale the data as shown in:\n",
            "    https://scikit-learn.org/stable/modules/preprocessing.html\n",
            "Please also refer to the documentation for alternative solver options:\n",
            "    https://scikit-learn.org/stable/modules/linear_model.html#logistic-regression\n",
            "  n_iter_i = _check_optimize_result(\n"
          ]
        },
        {
          "output_type": "stream",
          "name": "stdout",
          "text": [
            "F1 Score (Fold 4): 0.88\n",
            "              precision    recall  f1-score   support\n",
            "\n",
            "     Clase 0       0.85      0.87      0.86      2914\n",
            "     Clase 1       0.89      0.88      0.88      3620\n",
            "\n",
            "    accuracy                           0.87      6534\n",
            "   macro avg       0.87      0.87      0.87      6534\n",
            "weighted avg       0.87      0.87      0.87      6534\n",
            "\n",
            "\n",
            "Fold 5/5\n",
            "F1 Score (Fold 5): 0.89\n",
            "              precision    recall  f1-score   support\n",
            "\n",
            "     Clase 0       0.86      0.87      0.86      2914\n",
            "     Clase 1       0.89      0.88      0.89      3620\n",
            "\n",
            "    accuracy                           0.88      6534\n",
            "   macro avg       0.87      0.87      0.87      6534\n",
            "weighted avg       0.88      0.88      0.88      6534\n",
            "\n",
            "\n",
            "Logistic - Promedio F1 Score: 0.88\n"
          ]
        },
        {
          "output_type": "stream",
          "name": "stderr",
          "text": [
            "/usr/local/lib/python3.10/dist-packages/sklearn/linear_model/_logistic.py:469: ConvergenceWarning: lbfgs failed to converge (status=1):\n",
            "STOP: TOTAL NO. of ITERATIONS REACHED LIMIT.\n",
            "\n",
            "Increase the number of iterations (max_iter) or scale the data as shown in:\n",
            "    https://scikit-learn.org/stable/modules/preprocessing.html\n",
            "Please also refer to the documentation for alternative solver options:\n",
            "    https://scikit-learn.org/stable/modules/linear_model.html#logistic-regression\n",
            "  n_iter_i = _check_optimize_result(\n"
          ]
        }
      ]
    },
    {
      "cell_type": "markdown",
      "source": [
        "### Random forest grid search"
      ],
      "metadata": {
        "id": "QxMQNG-gair_"
      }
    },
    {
      "cell_type": "code",
      "source": [
        "rf = RandomForestClassifier(random_state=42)\n",
        "\n",
        "# Definir los parámetros a buscar\n",
        "param_grid = {\n",
        "    'n_estimators': [300],\n",
        "    'criterion': ['gini', 'entropy'],\n",
        "    'max_features': ['sqrt', 'log2']\n",
        "}\n",
        "\n",
        "# Configurar KFold\n",
        "kf = KFold(n_splits=5, shuffle=True, random_state=42)\n",
        "\n",
        "# Realizar Grid Search con validación cruzada\n",
        "grid_search = GridSearchCV(estimator=rf, param_grid=param_grid, cv=kf, scoring='f1', n_jobs=-1)\n",
        "grid_search.fit(X_train, y_train)\n",
        "\n",
        "# Obtener los mejores parámetros\n",
        "print(\"Mejores parámetros encontrados:\", grid_search.best_params_)\n",
        "\n",
        "# Predecir con el mejor modelo\n",
        "best_model = grid_search.best_estimator_\n",
        "y_pred = best_model.predict(X_test)\n",
        "\n",
        "# Generar el classification report\n",
        "report = classification_report(y_test, y_pred, target_names=['Clase 0', 'Clase 1'])\n",
        "print(report)"
      ],
      "metadata": {
        "colab": {
          "base_uri": "https://localhost:8080/"
        },
        "id": "YJnPOs3SSSyT",
        "outputId": "cfa6fe01-026d-4381-acdc-52f22924e859"
      },
      "execution_count": null,
      "outputs": [
        {
          "output_type": "stream",
          "name": "stdout",
          "text": [
            "Mejores parámetros encontrados: {'criterion': 'gini', 'max_features': 'sqrt', 'n_estimators': 300}\n",
            "              precision    recall  f1-score   support\n",
            "\n",
            "     Clase 0       0.90      0.92      0.91      4386\n",
            "     Clase 1       0.93      0.92      0.93      5416\n",
            "\n",
            "    accuracy                           0.92      9802\n",
            "   macro avg       0.92      0.92      0.92      9802\n",
            "weighted avg       0.92      0.92      0.92      9802\n",
            "\n"
          ]
        }
      ]
    },
    {
      "cell_type": "code",
      "source": [
        "model = RandomForestClassifier(random_state=42)\n",
        "\n",
        "# Definir los parámetros a evaluar\n",
        "param_grid = {\n",
        "    'n_estimators': [300],\n",
        "    'max_features': ['sqrt', 'log2'],\n",
        "    'criterion': ['gini', 'entropy']\n",
        "}\n",
        "\n",
        "kf = KFold(n_splits=5, shuffle=True, random_state=42)\n",
        "\n",
        "# Crear una función para ajustar el modelo y devolver el resultado\n",
        "def evaluate_model(params):\n",
        "    model.set_params(**params)\n",
        "    scores = cross_val_score(model, X_train, y_train, cv=kf, scoring='f1_weighted')\n",
        "    return {'params': params, 'mean_test_score': np.mean(scores)}\n",
        "\n",
        "# Ejecutar el ajuste con monitoreo\n",
        "results = []\n",
        "for i, params in enumerate(ParameterGrid(param_grid)):\n",
        "    print(f\"Evaluando combinación {i + 1}/{len(ParameterGrid(param_grid))}: {params}\")\n",
        "    result = evaluate_model(params)\n",
        "    results.append(result)\n",
        "\n",
        "# Convertir a DataFrame para una visualización más clara\n",
        "results_df = pd.DataFrame(results)\n",
        "\n",
        "# Mejor resultado\n",
        "best_result = results_df.loc[results_df['mean_test_score'].idxmax()]\n",
        "print(\"\\nMejores parámetros:\", best_result['params'])\n",
        "print(\"Mejor F1 Score:\", best_result['mean_test_score'])"
      ],
      "metadata": {
        "colab": {
          "base_uri": "https://localhost:8080/"
        },
        "id": "XTQhDyZzeMSb",
        "outputId": "795e8556-b638-4b19-fd01-d181fe319955"
      },
      "execution_count": null,
      "outputs": [
        {
          "output_type": "stream",
          "name": "stdout",
          "text": [
            "Evaluando combinación 1/20: {'criterion': 'gini', 'max_features': 'sqrt', 'n_estimators': 50}\n",
            "Evaluando combinación 2/20: {'criterion': 'gini', 'max_features': 'sqrt', 'n_estimators': 100}\n",
            "Evaluando combinación 3/20: {'criterion': 'gini', 'max_features': 'sqrt', 'n_estimators': 150}\n",
            "Evaluando combinación 4/20: {'criterion': 'gini', 'max_features': 'sqrt', 'n_estimators': 200}\n",
            "Evaluando combinación 5/20: {'criterion': 'gini', 'max_features': 'sqrt', 'n_estimators': 300}\n",
            "Evaluando combinación 6/20: {'criterion': 'gini', 'max_features': 'log2', 'n_estimators': 50}\n",
            "Evaluando combinación 7/20: {'criterion': 'gini', 'max_features': 'log2', 'n_estimators': 100}\n",
            "Evaluando combinación 8/20: {'criterion': 'gini', 'max_features': 'log2', 'n_estimators': 150}\n",
            "Evaluando combinación 9/20: {'criterion': 'gini', 'max_features': 'log2', 'n_estimators': 200}\n",
            "Evaluando combinación 10/20: {'criterion': 'gini', 'max_features': 'log2', 'n_estimators': 300}\n",
            "Evaluando combinación 11/20: {'criterion': 'entropy', 'max_features': 'sqrt', 'n_estimators': 50}\n",
            "Evaluando combinación 12/20: {'criterion': 'entropy', 'max_features': 'sqrt', 'n_estimators': 100}\n",
            "Evaluando combinación 13/20: {'criterion': 'entropy', 'max_features': 'sqrt', 'n_estimators': 150}\n",
            "Evaluando combinación 14/20: {'criterion': 'entropy', 'max_features': 'sqrt', 'n_estimators': 200}\n",
            "Evaluando combinación 15/20: {'criterion': 'entropy', 'max_features': 'sqrt', 'n_estimators': 300}\n",
            "Evaluando combinación 16/20: {'criterion': 'entropy', 'max_features': 'log2', 'n_estimators': 50}\n",
            "Evaluando combinación 17/20: {'criterion': 'entropy', 'max_features': 'log2', 'n_estimators': 100}\n",
            "Evaluando combinación 18/20: {'criterion': 'entropy', 'max_features': 'log2', 'n_estimators': 150}\n",
            "Evaluando combinación 19/20: {'criterion': 'entropy', 'max_features': 'log2', 'n_estimators': 200}\n",
            "Evaluando combinación 20/20: {'criterion': 'entropy', 'max_features': 'log2', 'n_estimators': 300}\n",
            "\n",
            "Mejores parámetros: {'criterion': 'gini', 'max_features': 'sqrt', 'n_estimators': 300}\n",
            "Mejor F1 Score: 0.9176080447485198\n"
          ]
        }
      ]
    },
    {
      "cell_type": "markdown",
      "source": [
        "##Fase 2\n"
      ],
      "metadata": {
        "id": "YGlYHlZFPQOw"
      }
    },
    {
      "cell_type": "code",
      "source": [
        "print(y_antiMCT[(y_antiMCT['Antimicrobiano'] == 1) &\n",
        "                        (y_antiMCT['Anticancerigeno'] == 1) &\n",
        "                        (y_antiMCT['Antitumoral'] == 1)])"
      ],
      "metadata": {
        "colab": {
          "base_uri": "https://localhost:8080/"
        },
        "id": "eXj7tUqdfjb8",
        "outputId": "bfd8bbbf-a0d5-441c-851c-7a86d11775ed"
      },
      "execution_count": null,
      "outputs": [
        {
          "output_type": "stream",
          "name": "stdout",
          "text": [
            "       Antimicrobiano  Anticancerigeno  Antitumoral\n",
            "60                1.0              1.0          1.0\n",
            "94                1.0              1.0          1.0\n",
            "105               1.0              1.0          1.0\n",
            "108               1.0              1.0          1.0\n",
            "114               1.0              1.0          1.0\n",
            "...               ...              ...          ...\n",
            "18356             1.0              1.0          1.0\n",
            "18436             1.0              1.0          1.0\n",
            "18451             1.0              1.0          1.0\n",
            "18468             1.0              1.0          1.0\n",
            "18499             1.0              1.0          1.0\n",
            "\n",
            "[273 rows x 3 columns]\n"
          ]
        }
      ]
    },
    {
      "cell_type": "code",
      "source": [
        "print(y_antiMCT[(y_antiMCT['Antimicrobiano'] == 1) &\n",
        "                        (y_antiMCT['Anticancerigeno'] == 1) &\n",
        "                        (y_antiMCT['Antitumoral'] == 0)])"
      ],
      "metadata": {
        "colab": {
          "base_uri": "https://localhost:8080/"
        },
        "id": "q2-QlR2dbeSL",
        "outputId": "e6332826-af3b-4892-f98d-4a389dfe889f"
      },
      "execution_count": null,
      "outputs": [
        {
          "output_type": "stream",
          "name": "stdout",
          "text": [
            "       Antimicrobiano  Anticancerigeno  Antitumoral\n",
            "87                1.0              1.0          0.0\n",
            "101               1.0              1.0          0.0\n",
            "110               1.0              1.0          0.0\n",
            "119               1.0              1.0          0.0\n",
            "148               1.0              1.0          0.0\n",
            "...               ...              ...          ...\n",
            "18461             1.0              1.0          0.0\n",
            "18508             1.0              1.0          0.0\n",
            "18512             1.0              1.0          0.0\n",
            "18515             1.0              1.0          0.0\n",
            "18527             1.0              1.0          0.0\n",
            "\n",
            "[707 rows x 3 columns]\n"
          ]
        }
      ]
    },
    {
      "cell_type": "code",
      "source": [
        "print(y_antiMCT[(y_antiMCT['Antimicrobiano'] == 1) &\n",
        "                        (y_antiMCT['Anticancerigeno'] == 0) &\n",
        "                        (y_antiMCT['Antitumoral'] == 1)])"
      ],
      "metadata": {
        "colab": {
          "base_uri": "https://localhost:8080/"
        },
        "id": "dhoza1xOcaCx",
        "outputId": "6e06725b-e660-44d4-9105-4b4d80d13683"
      },
      "execution_count": null,
      "outputs": [
        {
          "output_type": "stream",
          "name": "stdout",
          "text": [
            "       Antimicrobiano  Anticancerigeno  Antitumoral\n",
            "1577              1.0              0.0          1.0\n",
            "15132             1.0              0.0          1.0\n",
            "16842             1.0              0.0          1.0\n",
            "17496             1.0              0.0          1.0\n"
          ]
        }
      ]
    },
    {
      "cell_type": "code",
      "source": [
        "contador = 0\n",
        "limite = 707\n",
        "\n",
        "# Condiciones para identificar filas que cumplen la condición\n",
        "condition = ((y_antiMCT['Antimicrobiano'] == 1) & (y_antiMCT['Anticancerigeno'] == 1) & (y_antiMCT['Antitumoral'] == 0))\n",
        "\n",
        "# Iterar sobre las primeras `limite` filas que cumplen la condición\n",
        "for idx in y_antiMCT[condition].index:\n",
        "    if contador >= limite:\n",
        "        break\n",
        "    y_antiMCT.loc[idx, 'Antimicrobiano'] = 0\n",
        "    contador += 1\n",
        "\n",
        "print(\"Se han modificado las primeras\", contador, \"filas que cumplen la condición.\")"
      ],
      "metadata": {
        "colab": {
          "base_uri": "https://localhost:8080/"
        },
        "id": "f9BvrP_Qavkf",
        "outputId": "f54bc11f-257a-4a02-b417-f6bb361dd12a"
      },
      "execution_count": null,
      "outputs": [
        {
          "output_type": "stream",
          "name": "stdout",
          "text": [
            "Se han modificado las primeras 707 filas que cumplen la condición.\n"
          ]
        }
      ]
    },
    {
      "cell_type": "code",
      "source": [
        "contador = 0\n",
        "limite = 273\n",
        "\n",
        "# Condiciones para identificar filas que cumplen la condición\n",
        "condition = ((y_antiMCT['Antimicrobiano'] == 1) & (y_antiMCT['Anticancerigeno'] == 1) & (y_antiMCT['Antitumoral'] == 1))\n",
        "\n",
        "# Iterar sobre las primeras `limite` filas que cumplen la condición\n",
        "for idx in y_antiMCT[condition].index:\n",
        "    if contador >= limite:\n",
        "        break\n",
        "    y_antiMCT.loc[idx, ['Antimicrobiano', 'Anticancerigeno']] = 0\n",
        "    contador += 1\n",
        "\n",
        "print(\"Se han modificado las primeras\", contador, \"filas que cumplen la condición.\")"
      ],
      "metadata": {
        "colab": {
          "base_uri": "https://localhost:8080/"
        },
        "id": "5A9K5rLDfiVh",
        "outputId": "45b175cc-1d51-4776-da2f-9673fbfcd755"
      },
      "execution_count": null,
      "outputs": [
        {
          "output_type": "stream",
          "name": "stdout",
          "text": [
            "Se han modificado las primeras 273 filas que cumplen la condición.\n"
          ]
        }
      ]
    },
    {
      "cell_type": "code",
      "source": [
        "X_train, X_test, y_train, y_test = train_test_split(X_train_temp, y_antiMCT, test_size=0.2, random_state=42)"
      ],
      "metadata": {
        "id": "hKtqazpoVXg6"
      },
      "execution_count": null,
      "outputs": []
    },
    {
      "cell_type": "code",
      "source": [
        "models = {\n",
        "    'LightGBM': MultiOutputClassifier(lgb.LGBMClassifier(n_estimators=1000, learning_rate=0.1), n_jobs=-1),\n",
        "    'XGB': xgb.XGBClassifier(n_estimators = 500, learning_rate=0.1, learuse_label_encoder=False, eval_metric='mlogloss'),\n",
        "    'Extratrees': ExtraTreesClassifier(min_samples_leaf=1, min_samples_split=2, n_estimators=300, random_state=42, criterion=\"entropy\")\n",
        "}\n",
        "\n",
        "# Aplicar diferentes random_states\n",
        "for random_state in [42]:\n",
        "    print(f'\\nRandom State: {random_state}')\n",
        "\n",
        "    X_train, X_test, y_train, y_test = train_test_split(X_train_temp, y_antiMCT, test_size=0.2, random_state=42)\n",
        "\n",
        "    for model_name, model in models.items():\n",
        "        if hasattr(model, 'random_state'):  # Verificar si el modelo tiene el parámetro random_state\n",
        "          model.set_params(random_state=42)  # Establecer random_state\n",
        "        model.fit(X_train, y_train)\n",
        "        predictions = model.predict(X_test)\n",
        "        f1 = f1_score(y_test, predictions, average='micro')\n",
        "        print(f'{model_name} - F1 Score: {f1:.2f}')\n",
        "        report = classification_report(y_test, predictions, target_names=['Anticancerigeno', 'Antitumoral'])  # Añade los nombres de tus clases\n",
        "        print(report)\n",
        "        predictions_val = model.predict(X_val)\n",
        "        f1_val = f1_score(y_val_phase2, predictions_val, average='micro')\n",
        "        print(\"F1 en conjunto de validación:\", classification_report(y_val_phase2, predictions_val, target_names=['Anticancerigeno', 'Antitumoral']))\n"
      ],
      "metadata": {
        "colab": {
          "base_uri": "https://localhost:8080/"
        },
        "id": "rr-cSfpHXGVn",
        "outputId": "12e440c4-0b4c-4abc-d3ec-174bc5e8417c"
      },
      "execution_count": null,
      "outputs": [
        {
          "output_type": "stream",
          "name": "stdout",
          "text": [
            "\n",
            "Random State: 42\n",
            "LightGBM - F1 Score: 0.51\n",
            "                 precision    recall  f1-score   support\n",
            "\n",
            "Anticancerigeno       0.78      0.38      0.51       271\n",
            "    Antitumoral       0.85      0.38      0.52        88\n",
            "\n",
            "      micro avg       0.80      0.38      0.51       359\n",
            "      macro avg       0.81      0.38      0.52       359\n",
            "   weighted avg       0.80      0.38      0.51       359\n",
            "    samples avg       0.02      0.02      0.02       359\n",
            "\n"
          ]
        },
        {
          "output_type": "stream",
          "name": "stderr",
          "text": [
            "/usr/local/lib/python3.10/dist-packages/sklearn/metrics/_classification.py:1531: UndefinedMetricWarning: Precision is ill-defined and being set to 0.0 in samples with no predicted labels. Use `zero_division` parameter to control this behavior.\n",
            "  _warn_prf(average, modifier, f\"{metric.capitalize()} is\", len(result))\n",
            "/usr/local/lib/python3.10/dist-packages/sklearn/metrics/_classification.py:1531: UndefinedMetricWarning: Recall is ill-defined and being set to 0.0 in samples with no true labels. Use `zero_division` parameter to control this behavior.\n",
            "  _warn_prf(average, modifier, f\"{metric.capitalize()} is\", len(result))\n",
            "/usr/local/lib/python3.10/dist-packages/sklearn/metrics/_classification.py:1531: UndefinedMetricWarning: F-score is ill-defined and being set to 0.0 in samples with no true nor predicted labels. Use `zero_division` parameter to control this behavior.\n",
            "  _warn_prf(average, modifier, f\"{metric.capitalize()} is\", len(result))\n",
            "/usr/local/lib/python3.10/dist-packages/sklearn/metrics/_classification.py:1531: UndefinedMetricWarning: Precision is ill-defined and being set to 0.0 in samples with no predicted labels. Use `zero_division` parameter to control this behavior.\n",
            "  _warn_prf(average, modifier, f\"{metric.capitalize()} is\", len(result))\n",
            "/usr/local/lib/python3.10/dist-packages/sklearn/metrics/_classification.py:1531: UndefinedMetricWarning: Recall is ill-defined and being set to 0.0 in samples with no true labels. Use `zero_division` parameter to control this behavior.\n",
            "  _warn_prf(average, modifier, f\"{metric.capitalize()} is\", len(result))\n",
            "/usr/local/lib/python3.10/dist-packages/sklearn/metrics/_classification.py:1531: UndefinedMetricWarning: F-score is ill-defined and being set to 0.0 in samples with no true nor predicted labels. Use `zero_division` parameter to control this behavior.\n",
            "  _warn_prf(average, modifier, f\"{metric.capitalize()} is\", len(result))\n"
          ]
        },
        {
          "output_type": "stream",
          "name": "stdout",
          "text": [
            "F1 en conjunto de validación:                  precision    recall  f1-score   support\n",
            "\n",
            "Anticancerigeno       0.82      0.35      0.49       348\n",
            "    Antitumoral       0.77      0.35      0.48       117\n",
            "\n",
            "      micro avg       0.81      0.35      0.49       465\n",
            "      macro avg       0.80      0.35      0.49       465\n",
            "   weighted avg       0.81      0.35      0.49       465\n",
            "    samples avg       0.02      0.01      0.01       465\n",
            "\n"
          ]
        },
        {
          "output_type": "stream",
          "name": "stderr",
          "text": [
            "/usr/local/lib/python3.10/dist-packages/xgboost/core.py:158: UserWarning: [17:57:01] WARNING: /workspace/src/learner.cc:740: \n",
            "Parameters: { \"learuse_label_encoder\" } are not used.\n",
            "\n",
            "  warnings.warn(smsg, UserWarning)\n"
          ]
        },
        {
          "output_type": "stream",
          "name": "stdout",
          "text": [
            "XGB - F1 Score: 0.51\n",
            "                 precision    recall  f1-score   support\n",
            "\n",
            "Anticancerigeno       0.82      0.37      0.51       271\n",
            "    Antitumoral       0.86      0.35      0.50        88\n",
            "\n",
            "      micro avg       0.83      0.36      0.51       359\n",
            "      macro avg       0.84      0.36      0.50       359\n",
            "   weighted avg       0.83      0.36      0.51       359\n",
            "    samples avg       0.02      0.01      0.02       359\n",
            "\n"
          ]
        },
        {
          "output_type": "stream",
          "name": "stderr",
          "text": [
            "/usr/local/lib/python3.10/dist-packages/sklearn/metrics/_classification.py:1531: UndefinedMetricWarning: Precision is ill-defined and being set to 0.0 in samples with no predicted labels. Use `zero_division` parameter to control this behavior.\n",
            "  _warn_prf(average, modifier, f\"{metric.capitalize()} is\", len(result))\n",
            "/usr/local/lib/python3.10/dist-packages/sklearn/metrics/_classification.py:1531: UndefinedMetricWarning: Recall is ill-defined and being set to 0.0 in samples with no true labels. Use `zero_division` parameter to control this behavior.\n",
            "  _warn_prf(average, modifier, f\"{metric.capitalize()} is\", len(result))\n",
            "/usr/local/lib/python3.10/dist-packages/sklearn/metrics/_classification.py:1531: UndefinedMetricWarning: F-score is ill-defined and being set to 0.0 in samples with no true nor predicted labels. Use `zero_division` parameter to control this behavior.\n",
            "  _warn_prf(average, modifier, f\"{metric.capitalize()} is\", len(result))\n",
            "/usr/local/lib/python3.10/dist-packages/sklearn/metrics/_classification.py:1531: UndefinedMetricWarning: Precision is ill-defined and being set to 0.0 in samples with no predicted labels. Use `zero_division` parameter to control this behavior.\n",
            "  _warn_prf(average, modifier, f\"{metric.capitalize()} is\", len(result))\n",
            "/usr/local/lib/python3.10/dist-packages/sklearn/metrics/_classification.py:1531: UndefinedMetricWarning: Recall is ill-defined and being set to 0.0 in samples with no true labels. Use `zero_division` parameter to control this behavior.\n",
            "  _warn_prf(average, modifier, f\"{metric.capitalize()} is\", len(result))\n",
            "/usr/local/lib/python3.10/dist-packages/sklearn/metrics/_classification.py:1531: UndefinedMetricWarning: F-score is ill-defined and being set to 0.0 in samples with no true nor predicted labels. Use `zero_division` parameter to control this behavior.\n",
            "  _warn_prf(average, modifier, f\"{metric.capitalize()} is\", len(result))\n"
          ]
        },
        {
          "output_type": "stream",
          "name": "stdout",
          "text": [
            "F1 en conjunto de validación:                  precision    recall  f1-score   support\n",
            "\n",
            "Anticancerigeno       0.86      0.33      0.48       348\n",
            "    Antitumoral       0.75      0.31      0.44       117\n",
            "\n",
            "      micro avg       0.83      0.32      0.47       465\n",
            "      macro avg       0.80      0.32      0.46       465\n",
            "   weighted avg       0.83      0.32      0.47       465\n",
            "    samples avg       0.01      0.01      0.01       465\n",
            "\n",
            "Extratrees - F1 Score: 0.45\n",
            "                 precision    recall  f1-score   support\n",
            "\n",
            "Anticancerigeno       0.77      0.32      0.45       271\n",
            "    Antitumoral       0.81      0.30      0.43        88\n",
            "\n",
            "      micro avg       0.78      0.31      0.45       359\n",
            "      macro avg       0.79      0.31      0.44       359\n",
            "   weighted avg       0.78      0.31      0.45       359\n",
            "    samples avg       0.01      0.01      0.01       359\n",
            "\n"
          ]
        },
        {
          "output_type": "stream",
          "name": "stderr",
          "text": [
            "/usr/local/lib/python3.10/dist-packages/sklearn/metrics/_classification.py:1531: UndefinedMetricWarning: Precision is ill-defined and being set to 0.0 in samples with no predicted labels. Use `zero_division` parameter to control this behavior.\n",
            "  _warn_prf(average, modifier, f\"{metric.capitalize()} is\", len(result))\n",
            "/usr/local/lib/python3.10/dist-packages/sklearn/metrics/_classification.py:1531: UndefinedMetricWarning: Recall is ill-defined and being set to 0.0 in samples with no true labels. Use `zero_division` parameter to control this behavior.\n",
            "  _warn_prf(average, modifier, f\"{metric.capitalize()} is\", len(result))\n",
            "/usr/local/lib/python3.10/dist-packages/sklearn/metrics/_classification.py:1531: UndefinedMetricWarning: F-score is ill-defined and being set to 0.0 in samples with no true nor predicted labels. Use `zero_division` parameter to control this behavior.\n",
            "  _warn_prf(average, modifier, f\"{metric.capitalize()} is\", len(result))\n"
          ]
        },
        {
          "output_type": "stream",
          "name": "stdout",
          "text": [
            "F1 en conjunto de validación:                  precision    recall  f1-score   support\n",
            "\n",
            "Anticancerigeno       0.78      0.30      0.44       348\n",
            "    Antitumoral       0.71      0.30      0.42       117\n",
            "\n",
            "      micro avg       0.77      0.30      0.43       465\n",
            "      macro avg       0.75      0.30      0.43       465\n",
            "   weighted avg       0.77      0.30      0.43       465\n",
            "    samples avg       0.01      0.01      0.01       465\n",
            "\n"
          ]
        },
        {
          "output_type": "stream",
          "name": "stderr",
          "text": [
            "/usr/local/lib/python3.10/dist-packages/sklearn/metrics/_classification.py:1531: UndefinedMetricWarning: Precision is ill-defined and being set to 0.0 in samples with no predicted labels. Use `zero_division` parameter to control this behavior.\n",
            "  _warn_prf(average, modifier, f\"{metric.capitalize()} is\", len(result))\n",
            "/usr/local/lib/python3.10/dist-packages/sklearn/metrics/_classification.py:1531: UndefinedMetricWarning: Recall is ill-defined and being set to 0.0 in samples with no true labels. Use `zero_division` parameter to control this behavior.\n",
            "  _warn_prf(average, modifier, f\"{metric.capitalize()} is\", len(result))\n",
            "/usr/local/lib/python3.10/dist-packages/sklearn/metrics/_classification.py:1531: UndefinedMetricWarning: F-score is ill-defined and being set to 0.0 in samples with no true nor predicted labels. Use `zero_division` parameter to control this behavior.\n",
            "  _warn_prf(average, modifier, f\"{metric.capitalize()} is\", len(result))\n"
          ]
        }
      ]
    },
    {
      "cell_type": "code",
      "source": [
        "for model_name, model in models.items():\n",
        "    if model_name in ['LightGBM', 'XGB', 'Extratrees']:\n",
        "        # Obtener importancias de características\n",
        "        if hasattr(model, 'feature_importances_'):\n",
        "            importances = model.feature_importances_\n",
        "        elif hasattr(model, 'estimators_'):\n",
        "            importances = model.estimators_[0].feature_importances_  # Para MultiOutputClassifier\n",
        "        else:\n",
        "            continue\n",
        "\n",
        "        # Ordenar y seleccionar las 30 características más importantes\n",
        "        indices = np.argsort(importances)[::-1][:30]  # Seleccionar las 30 más importantes\n",
        "        top_importances = importances[indices]\n",
        "        top_features = np.array(X_train_temp.columns)[indices]\n",
        "\n",
        "        # Crear el gráfico\n",
        "        plt.figure(figsize=(20, 10))\n",
        "        plt.title(f'Importancia de Características (Top 30) - {model_name}')\n",
        "        plt.bar(range(30), top_importances, align=\"center\")\n",
        "        plt.xticks(range(30), top_features, rotation=90)\n",
        "        plt.tight_layout()\n",
        "        plt.show()"
      ],
      "metadata": {
        "colab": {
          "base_uri": "https://localhost:8080/",
          "height": 1000
        },
        "id": "X-OxvpF6Q1PY",
        "outputId": "45c51632-cb46-4ece-ad5f-1b967ce531a7"
      },
      "execution_count": null,
      "outputs": [
        {
          "output_type": "display_data",
          "data": {
            "text/plain": [
              "<Figure size 2000x1000 with 1 Axes>"
            ],
            "image/png": "[encoded data removed]"
          },
          "metadata": {}
        },
        {
          "output_type": "display_data",
          "data": {
            "text/plain": [
              "<Figure size 2000x1000 with 1 Axes>"
            ],
            "image/png": "[encoded data removed]"
          },
          "metadata": {}
        },
        {
          "output_type": "display_data",
          "data": {
            "text/plain": [
              "<Figure size 2000x1000 with 1 Axes>"
            ],
            "image/png": "[encoded data removed]"
          },
          "metadata": {}
        }
      ]
    },
    {
      "cell_type": "code",
      "source": [
        "# Configurar modelos\n",
        "models = {\n",
        "    'LightGBM': MultiOutputClassifier(lgb.LGBMClassifier(n_estimators=1000, learning_rate=0.1), n_jobs=-1),\n",
        "    'XGB': xgb.XGBClassifier(n_estimators=500, learning_rate=0.1, use_label_encoder=False, eval_metric='mlogloss'),\n",
        "    'Extratrees': ExtraTreesClassifier(min_samples_leaf=1, min_samples_split=2, n_estimators=300, random_state=42, criterion=\"entropy\")\n",
        "}\n",
        "\n",
        "# Parámetros de KFold\n",
        "n_splits = 5\n",
        "mskf = MultilabelStratifiedKFold(n_splits=n_splits, shuffle=True, random_state=42)\n",
        "\n",
        "# Iterar sobre los splits\n",
        "for random_state in [42]:  # Si planeas probar con más random_states\n",
        "    print(f'\\nRandom State: {random_state}')\n",
        "\n",
        "    fold_scores = {}\n",
        "\n",
        "    for model_name, model in models.items():\n",
        "        print(f'\\nModelo: {model_name}')\n",
        "        fold_scores[model_name] = []\n",
        "\n",
        "        for fold, (train_idx, test_idx) in enumerate(mskf.split(X_train_temp, y_antiMCT)):\n",
        "            print(f'\\nFold {fold + 1}/{n_splits}')\n",
        "\n",
        "            # Dividir los datos\n",
        "            X_train, X_test = X_train_temp.iloc[train_idx], X_train_temp.iloc[test_idx]\n",
        "            y_train, y_test = y_antiMCT.iloc[train_idx], y_antiMCT.iloc[test_idx]\n",
        "\n",
        "            # Entrenar el modelo\n",
        "            model.fit(X_train, y_train)\n",
        "            predictions = model.predict(X_test)\n",
        "\n",
        "            # Calcular métricas\n",
        "            f1 = f1_score(y_test, predictions, average='micro')\n",
        "            fold_scores[model_name].append(f1)\n",
        "            print(f'F1 Score (Fold {fold + 1}): {f1:.2f}')\n",
        "\n",
        "            # Generar reporte\n",
        "            report = classification_report(y_test, predictions, target_names=['Anticancerigeno', 'Antitumoral'])\n",
        "            print(report)\n",
        "\n",
        "    # Promediar los resultados de los folds para cada modelo\n",
        "    for model_name in fold_scores:\n",
        "        avg_f1 = sum(fold_scores[model_name]) / len(fold_scores[model_name])\n",
        "        print(f'\\n{model_name} - F1 Score Promedio: {avg_f1:.2f}')"
      ],
      "metadata": {
        "colab": {
          "base_uri": "https://localhost:8080/"
        },
        "id": "l5dNSkYFjjIZ",
        "outputId": "4ff81cc1-5557-49ed-a3eb-3f5fe864434e"
      },
      "execution_count": null,
      "outputs": [
        {
          "output_type": "stream",
          "name": "stdout",
          "text": [
            "\n",
            "Random State: 42\n",
            "\n",
            "Modelo: LightGBM\n",
            "\n",
            "Fold 1/5\n",
            "F1 Score (Fold 1): 0.48\n",
            "                 precision    recall  f1-score   support\n",
            "\n",
            "Anticancerigeno       0.80      0.33      0.46       283\n",
            "    Antitumoral       0.75      0.42      0.54        86\n",
            "\n",
            "      micro avg       0.79      0.35      0.48       369\n",
            "      macro avg       0.78      0.37      0.50       369\n",
            "   weighted avg       0.79      0.35      0.48       369\n",
            "    samples avg       0.01      0.01      0.01       369\n",
            "\n",
            "\n",
            "Fold 2/5\n"
          ]
        },
        {
          "output_type": "stream",
          "name": "stderr",
          "text": [
            "/usr/local/lib/python3.10/dist-packages/sklearn/metrics/_classification.py:1531: UndefinedMetricWarning: Precision is ill-defined and being set to 0.0 in samples with no predicted labels. Use `zero_division` parameter to control this behavior.\n",
            "  _warn_prf(average, modifier, f\"{metric.capitalize()} is\", len(result))\n",
            "/usr/local/lib/python3.10/dist-packages/sklearn/metrics/_classification.py:1531: UndefinedMetricWarning: Recall is ill-defined and being set to 0.0 in samples with no true labels. Use `zero_division` parameter to control this behavior.\n",
            "  _warn_prf(average, modifier, f\"{metric.capitalize()} is\", len(result))\n",
            "/usr/local/lib/python3.10/dist-packages/sklearn/metrics/_classification.py:1531: UndefinedMetricWarning: F-score is ill-defined and being set to 0.0 in samples with no true nor predicted labels. Use `zero_division` parameter to control this behavior.\n",
            "  _warn_prf(average, modifier, f\"{metric.capitalize()} is\", len(result))\n"
          ]
        },
        {
          "output_type": "stream",
          "name": "stdout",
          "text": [
            "F1 Score (Fold 2): 0.49\n",
            "                 precision    recall  f1-score   support\n",
            "\n",
            "Anticancerigeno       0.79      0.33      0.47       283\n",
            "    Antitumoral       0.79      0.43      0.55        87\n",
            "\n",
            "      micro avg       0.79      0.35      0.49       370\n",
            "      macro avg       0.79      0.38      0.51       370\n",
            "   weighted avg       0.79      0.35      0.49       370\n",
            "    samples avg       0.02      0.01      0.01       370\n",
            "\n",
            "\n",
            "Fold 3/5\n"
          ]
        },
        {
          "output_type": "stream",
          "name": "stderr",
          "text": [
            "/usr/local/lib/python3.10/dist-packages/sklearn/metrics/_classification.py:1531: UndefinedMetricWarning: Precision is ill-defined and being set to 0.0 in samples with no predicted labels. Use `zero_division` parameter to control this behavior.\n",
            "  _warn_prf(average, modifier, f\"{metric.capitalize()} is\", len(result))\n",
            "/usr/local/lib/python3.10/dist-packages/sklearn/metrics/_classification.py:1531: UndefinedMetricWarning: Recall is ill-defined and being set to 0.0 in samples with no true labels. Use `zero_division` parameter to control this behavior.\n",
            "  _warn_prf(average, modifier, f\"{metric.capitalize()} is\", len(result))\n",
            "/usr/local/lib/python3.10/dist-packages/sklearn/metrics/_classification.py:1531: UndefinedMetricWarning: F-score is ill-defined and being set to 0.0 in samples with no true nor predicted labels. Use `zero_division` parameter to control this behavior.\n",
            "  _warn_prf(average, modifier, f\"{metric.capitalize()} is\", len(result))\n"
          ]
        },
        {
          "output_type": "stream",
          "name": "stdout",
          "text": [
            "F1 Score (Fold 3): 0.52\n",
            "                 precision    recall  f1-score   support\n",
            "\n",
            "Anticancerigeno       0.82      0.36      0.50       283\n",
            "    Antitumoral       0.76      0.45      0.57        87\n",
            "\n",
            "      micro avg       0.81      0.38      0.52       370\n",
            "      macro avg       0.79      0.40      0.53       370\n",
            "   weighted avg       0.81      0.38      0.52       370\n",
            "    samples avg       0.02      0.02      0.02       370\n",
            "\n",
            "\n",
            "Fold 4/5\n"
          ]
        },
        {
          "output_type": "stream",
          "name": "stderr",
          "text": [
            "/usr/local/lib/python3.10/dist-packages/sklearn/metrics/_classification.py:1531: UndefinedMetricWarning: Precision is ill-defined and being set to 0.0 in samples with no predicted labels. Use `zero_division` parameter to control this behavior.\n",
            "  _warn_prf(average, modifier, f\"{metric.capitalize()} is\", len(result))\n",
            "/usr/local/lib/python3.10/dist-packages/sklearn/metrics/_classification.py:1531: UndefinedMetricWarning: Recall is ill-defined and being set to 0.0 in samples with no true labels. Use `zero_division` parameter to control this behavior.\n",
            "  _warn_prf(average, modifier, f\"{metric.capitalize()} is\", len(result))\n",
            "/usr/local/lib/python3.10/dist-packages/sklearn/metrics/_classification.py:1531: UndefinedMetricWarning: F-score is ill-defined and being set to 0.0 in samples with no true nor predicted labels. Use `zero_division` parameter to control this behavior.\n",
            "  _warn_prf(average, modifier, f\"{metric.capitalize()} is\", len(result))\n"
          ]
        },
        {
          "output_type": "stream",
          "name": "stdout",
          "text": [
            "F1 Score (Fold 4): 0.49\n",
            "                 precision    recall  f1-score   support\n",
            "\n",
            "Anticancerigeno       0.80      0.35      0.49       282\n",
            "    Antitumoral       0.76      0.36      0.49        86\n",
            "\n",
            "      micro avg       0.79      0.35      0.49       368\n",
            "      macro avg       0.78      0.36      0.49       368\n",
            "   weighted avg       0.79      0.35      0.49       368\n",
            "    samples avg       0.02      0.01      0.01       368\n",
            "\n",
            "\n",
            "Fold 5/5\n"
          ]
        },
        {
          "output_type": "stream",
          "name": "stderr",
          "text": [
            "/usr/local/lib/python3.10/dist-packages/sklearn/metrics/_classification.py:1531: UndefinedMetricWarning: Precision is ill-defined and being set to 0.0 in samples with no predicted labels. Use `zero_division` parameter to control this behavior.\n",
            "  _warn_prf(average, modifier, f\"{metric.capitalize()} is\", len(result))\n",
            "/usr/local/lib/python3.10/dist-packages/sklearn/metrics/_classification.py:1531: UndefinedMetricWarning: Recall is ill-defined and being set to 0.0 in samples with no true labels. Use `zero_division` parameter to control this behavior.\n",
            "  _warn_prf(average, modifier, f\"{metric.capitalize()} is\", len(result))\n",
            "/usr/local/lib/python3.10/dist-packages/sklearn/metrics/_classification.py:1531: UndefinedMetricWarning: F-score is ill-defined and being set to 0.0 in samples with no true nor predicted labels. Use `zero_division` parameter to control this behavior.\n",
            "  _warn_prf(average, modifier, f\"{metric.capitalize()} is\", len(result))\n"
          ]
        },
        {
          "output_type": "stream",
          "name": "stdout",
          "text": [
            "F1 Score (Fold 5): 0.47\n",
            "                 precision    recall  f1-score   support\n",
            "\n",
            "Anticancerigeno       0.84      0.31      0.45       283\n",
            "    Antitumoral       0.79      0.39      0.52        87\n",
            "\n",
            "      micro avg       0.82      0.33      0.47       370\n",
            "      macro avg       0.81      0.35      0.49       370\n",
            "   weighted avg       0.83      0.33      0.47       370\n",
            "    samples avg       0.01      0.01      0.01       370\n",
            "\n",
            "\n",
            "Modelo: XGB\n"
          ]
        },
        {
          "output_type": "stream",
          "name": "stderr",
          "text": [
            "/usr/local/lib/python3.10/dist-packages/sklearn/metrics/_classification.py:1531: UndefinedMetricWarning: Precision is ill-defined and being set to 0.0 in samples with no predicted labels. Use `zero_division` parameter to control this behavior.\n",
            "  _warn_prf(average, modifier, f\"{metric.capitalize()} is\", len(result))\n",
            "/usr/local/lib/python3.10/dist-packages/sklearn/metrics/_classification.py:1531: UndefinedMetricWarning: Recall is ill-defined and being set to 0.0 in samples with no true labels. Use `zero_division` parameter to control this behavior.\n",
            "  _warn_prf(average, modifier, f\"{metric.capitalize()} is\", len(result))\n",
            "/usr/local/lib/python3.10/dist-packages/sklearn/metrics/_classification.py:1531: UndefinedMetricWarning: F-score is ill-defined and being set to 0.0 in samples with no true nor predicted labels. Use `zero_division` parameter to control this behavior.\n",
            "  _warn_prf(average, modifier, f\"{metric.capitalize()} is\", len(result))\n"
          ]
        },
        {
          "output_type": "stream",
          "name": "stdout",
          "text": [
            "\n",
            "Fold 1/5\n"
          ]
        },
        {
          "output_type": "stream",
          "name": "stderr",
          "text": [
            "/usr/local/lib/python3.10/dist-packages/xgboost/core.py:158: UserWarning: [02:05:58] WARNING: /workspace/src/learner.cc:740: \n",
            "Parameters: { \"use_label_encoder\" } are not used.\n",
            "\n",
            "  warnings.warn(smsg, UserWarning)\n"
          ]
        },
        {
          "output_type": "stream",
          "name": "stdout",
          "text": [
            "F1 Score (Fold 1): 0.46\n",
            "                 precision    recall  f1-score   support\n",
            "\n",
            "Anticancerigeno       0.81      0.31      0.45       283\n",
            "    Antitumoral       0.77      0.38      0.51        86\n",
            "\n",
            "      micro avg       0.80      0.33      0.46       369\n",
            "      macro avg       0.79      0.35      0.48       369\n",
            "   weighted avg       0.80      0.33      0.46       369\n",
            "    samples avg       0.01      0.01      0.01       369\n",
            "\n",
            "\n",
            "Fold 2/5\n"
          ]
        },
        {
          "output_type": "stream",
          "name": "stderr",
          "text": [
            "/usr/local/lib/python3.10/dist-packages/sklearn/metrics/_classification.py:1531: UndefinedMetricWarning: Precision is ill-defined and being set to 0.0 in samples with no predicted labels. Use `zero_division` parameter to control this behavior.\n",
            "  _warn_prf(average, modifier, f\"{metric.capitalize()} is\", len(result))\n",
            "/usr/local/lib/python3.10/dist-packages/sklearn/metrics/_classification.py:1531: UndefinedMetricWarning: Recall is ill-defined and being set to 0.0 in samples with no true labels. Use `zero_division` parameter to control this behavior.\n",
            "  _warn_prf(average, modifier, f\"{metric.capitalize()} is\", len(result))\n",
            "/usr/local/lib/python3.10/dist-packages/sklearn/metrics/_classification.py:1531: UndefinedMetricWarning: F-score is ill-defined and being set to 0.0 in samples with no true nor predicted labels. Use `zero_division` parameter to control this behavior.\n",
            "  _warn_prf(average, modifier, f\"{metric.capitalize()} is\", len(result))\n",
            "/usr/local/lib/python3.10/dist-packages/xgboost/core.py:158: UserWarning: [02:06:42] WARNING: /workspace/src/learner.cc:740: \n",
            "Parameters: { \"use_label_encoder\" } are not used.\n",
            "\n",
            "  warnings.warn(smsg, UserWarning)\n"
          ]
        },
        {
          "output_type": "stream",
          "name": "stdout",
          "text": [
            "F1 Score (Fold 2): 0.48\n",
            "                 precision    recall  f1-score   support\n",
            "\n",
            "Anticancerigeno       0.80      0.31      0.45       283\n",
            "    Antitumoral       0.82      0.41      0.55        87\n",
            "\n",
            "      micro avg       0.81      0.34      0.48       370\n",
            "      macro avg       0.81      0.36      0.50       370\n",
            "   weighted avg       0.81      0.34      0.47       370\n",
            "    samples avg       0.01      0.01      0.01       370\n",
            "\n",
            "\n",
            "Fold 3/5\n"
          ]
        },
        {
          "output_type": "stream",
          "name": "stderr",
          "text": [
            "/usr/local/lib/python3.10/dist-packages/sklearn/metrics/_classification.py:1531: UndefinedMetricWarning: Precision is ill-defined and being set to 0.0 in samples with no predicted labels. Use `zero_division` parameter to control this behavior.\n",
            "  _warn_prf(average, modifier, f\"{metric.capitalize()} is\", len(result))\n",
            "/usr/local/lib/python3.10/dist-packages/sklearn/metrics/_classification.py:1531: UndefinedMetricWarning: Recall is ill-defined and being set to 0.0 in samples with no true labels. Use `zero_division` parameter to control this behavior.\n",
            "  _warn_prf(average, modifier, f\"{metric.capitalize()} is\", len(result))\n",
            "/usr/local/lib/python3.10/dist-packages/sklearn/metrics/_classification.py:1531: UndefinedMetricWarning: F-score is ill-defined and being set to 0.0 in samples with no true nor predicted labels. Use `zero_division` parameter to control this behavior.\n",
            "  _warn_prf(average, modifier, f\"{metric.capitalize()} is\", len(result))\n",
            "/usr/local/lib/python3.10/dist-packages/xgboost/core.py:158: UserWarning: [02:07:30] WARNING: /workspace/src/learner.cc:740: \n",
            "Parameters: { \"use_label_encoder\" } are not used.\n",
            "\n",
            "  warnings.warn(smsg, UserWarning)\n"
          ]
        },
        {
          "output_type": "stream",
          "name": "stdout",
          "text": [
            "F1 Score (Fold 3): 0.51\n",
            "                 precision    recall  f1-score   support\n",
            "\n",
            "Anticancerigeno       0.86      0.37      0.51       283\n",
            "    Antitumoral       0.75      0.38      0.50        87\n",
            "\n",
            "      micro avg       0.83      0.37      0.51       370\n",
            "      macro avg       0.80      0.37      0.51       370\n",
            "   weighted avg       0.83      0.37      0.51       370\n",
            "    samples avg       0.02      0.02      0.02       370\n",
            "\n",
            "\n",
            "Fold 4/5\n"
          ]
        },
        {
          "output_type": "stream",
          "name": "stderr",
          "text": [
            "/usr/local/lib/python3.10/dist-packages/sklearn/metrics/_classification.py:1531: UndefinedMetricWarning: Precision is ill-defined and being set to 0.0 in samples with no predicted labels. Use `zero_division` parameter to control this behavior.\n",
            "  _warn_prf(average, modifier, f\"{metric.capitalize()} is\", len(result))\n",
            "/usr/local/lib/python3.10/dist-packages/sklearn/metrics/_classification.py:1531: UndefinedMetricWarning: Recall is ill-defined and being set to 0.0 in samples with no true labels. Use `zero_division` parameter to control this behavior.\n",
            "  _warn_prf(average, modifier, f\"{metric.capitalize()} is\", len(result))\n",
            "/usr/local/lib/python3.10/dist-packages/sklearn/metrics/_classification.py:1531: UndefinedMetricWarning: F-score is ill-defined and being set to 0.0 in samples with no true nor predicted labels. Use `zero_division` parameter to control this behavior.\n",
            "  _warn_prf(average, modifier, f\"{metric.capitalize()} is\", len(result))\n",
            "/usr/local/lib/python3.10/dist-packages/xgboost/core.py:158: UserWarning: [02:08:16] WARNING: /workspace/src/learner.cc:740: \n",
            "Parameters: { \"use_label_encoder\" } are not used.\n",
            "\n",
            "  warnings.warn(smsg, UserWarning)\n"
          ]
        },
        {
          "output_type": "stream",
          "name": "stdout",
          "text": [
            "F1 Score (Fold 4): 0.46\n",
            "                 precision    recall  f1-score   support\n",
            "\n",
            "Anticancerigeno       0.80      0.32      0.46       282\n",
            "    Antitumoral       0.87      0.31      0.46        86\n",
            "\n",
            "      micro avg       0.81      0.32      0.46       368\n",
            "      macro avg       0.83      0.32      0.46       368\n",
            "   weighted avg       0.81      0.32      0.46       368\n",
            "    samples avg       0.01      0.01      0.01       368\n",
            "\n",
            "\n",
            "Fold 5/5\n"
          ]
        },
        {
          "output_type": "stream",
          "name": "stderr",
          "text": [
            "/usr/local/lib/python3.10/dist-packages/sklearn/metrics/_classification.py:1531: UndefinedMetricWarning: Precision is ill-defined and being set to 0.0 in samples with no predicted labels. Use `zero_division` parameter to control this behavior.\n",
            "  _warn_prf(average, modifier, f\"{metric.capitalize()} is\", len(result))\n",
            "/usr/local/lib/python3.10/dist-packages/sklearn/metrics/_classification.py:1531: UndefinedMetricWarning: Recall is ill-defined and being set to 0.0 in samples with no true labels. Use `zero_division` parameter to control this behavior.\n",
            "  _warn_prf(average, modifier, f\"{metric.capitalize()} is\", len(result))\n",
            "/usr/local/lib/python3.10/dist-packages/sklearn/metrics/_classification.py:1531: UndefinedMetricWarning: F-score is ill-defined and being set to 0.0 in samples with no true nor predicted labels. Use `zero_division` parameter to control this behavior.\n",
            "  _warn_prf(average, modifier, f\"{metric.capitalize()} is\", len(result))\n",
            "/usr/local/lib/python3.10/dist-packages/xgboost/core.py:158: UserWarning: [02:09:03] WARNING: /workspace/src/learner.cc:740: \n",
            "Parameters: { \"use_label_encoder\" } are not used.\n",
            "\n",
            "  warnings.warn(smsg, UserWarning)\n"
          ]
        },
        {
          "output_type": "stream",
          "name": "stdout",
          "text": [
            "F1 Score (Fold 5): 0.44\n",
            "                 precision    recall  f1-score   support\n",
            "\n",
            "Anticancerigeno       0.82      0.28      0.42       283\n",
            "    Antitumoral       0.79      0.36      0.49        87\n",
            "\n",
            "      micro avg       0.81      0.30      0.44       370\n",
            "      macro avg       0.81      0.32      0.45       370\n",
            "   weighted avg       0.82      0.30      0.43       370\n",
            "    samples avg       0.01      0.01      0.01       370\n",
            "\n",
            "\n",
            "Modelo: Extratrees\n"
          ]
        },
        {
          "output_type": "stream",
          "name": "stderr",
          "text": [
            "/usr/local/lib/python3.10/dist-packages/sklearn/metrics/_classification.py:1531: UndefinedMetricWarning: Precision is ill-defined and being set to 0.0 in samples with no predicted labels. Use `zero_division` parameter to control this behavior.\n",
            "  _warn_prf(average, modifier, f\"{metric.capitalize()} is\", len(result))\n",
            "/usr/local/lib/python3.10/dist-packages/sklearn/metrics/_classification.py:1531: UndefinedMetricWarning: Recall is ill-defined and being set to 0.0 in samples with no true labels. Use `zero_division` parameter to control this behavior.\n",
            "  _warn_prf(average, modifier, f\"{metric.capitalize()} is\", len(result))\n",
            "/usr/local/lib/python3.10/dist-packages/sklearn/metrics/_classification.py:1531: UndefinedMetricWarning: F-score is ill-defined and being set to 0.0 in samples with no true nor predicted labels. Use `zero_division` parameter to control this behavior.\n",
            "  _warn_prf(average, modifier, f\"{metric.capitalize()} is\", len(result))\n"
          ]
        },
        {
          "output_type": "stream",
          "name": "stdout",
          "text": [
            "\n",
            "Fold 1/5\n",
            "F1 Score (Fold 1): 0.43\n",
            "                 precision    recall  f1-score   support\n",
            "\n",
            "Anticancerigeno       0.77      0.27      0.40       283\n",
            "    Antitumoral       0.74      0.40      0.52        86\n",
            "\n",
            "      micro avg       0.76      0.30      0.43       369\n",
            "      macro avg       0.75      0.33      0.46       369\n",
            "   weighted avg       0.76      0.30      0.43       369\n",
            "    samples avg       0.01      0.01      0.01       369\n",
            "\n",
            "\n",
            "Fold 2/5\n"
          ]
        },
        {
          "output_type": "stream",
          "name": "stderr",
          "text": [
            "/usr/local/lib/python3.10/dist-packages/sklearn/metrics/_classification.py:1531: UndefinedMetricWarning: Precision is ill-defined and being set to 0.0 in samples with no predicted labels. Use `zero_division` parameter to control this behavior.\n",
            "  _warn_prf(average, modifier, f\"{metric.capitalize()} is\", len(result))\n",
            "/usr/local/lib/python3.10/dist-packages/sklearn/metrics/_classification.py:1531: UndefinedMetricWarning: Recall is ill-defined and being set to 0.0 in samples with no true labels. Use `zero_division` parameter to control this behavior.\n",
            "  _warn_prf(average, modifier, f\"{metric.capitalize()} is\", len(result))\n",
            "/usr/local/lib/python3.10/dist-packages/sklearn/metrics/_classification.py:1531: UndefinedMetricWarning: F-score is ill-defined and being set to 0.0 in samples with no true nor predicted labels. Use `zero_division` parameter to control this behavior.\n",
            "  _warn_prf(average, modifier, f\"{metric.capitalize()} is\", len(result))\n"
          ]
        },
        {
          "output_type": "stream",
          "name": "stdout",
          "text": [
            "F1 Score (Fold 2): 0.45\n",
            "                 precision    recall  f1-score   support\n",
            "\n",
            "Anticancerigeno       0.78      0.31      0.44       283\n",
            "    Antitumoral       0.80      0.32      0.46        87\n",
            "\n",
            "      micro avg       0.79      0.31      0.45       370\n",
            "      macro avg       0.79      0.31      0.45       370\n",
            "   weighted avg       0.79      0.31      0.45       370\n",
            "    samples avg       0.01      0.01      0.01       370\n",
            "\n",
            "\n",
            "Fold 3/5\n"
          ]
        },
        {
          "output_type": "stream",
          "name": "stderr",
          "text": [
            "/usr/local/lib/python3.10/dist-packages/sklearn/metrics/_classification.py:1531: UndefinedMetricWarning: Precision is ill-defined and being set to 0.0 in samples with no predicted labels. Use `zero_division` parameter to control this behavior.\n",
            "  _warn_prf(average, modifier, f\"{metric.capitalize()} is\", len(result))\n",
            "/usr/local/lib/python3.10/dist-packages/sklearn/metrics/_classification.py:1531: UndefinedMetricWarning: Recall is ill-defined and being set to 0.0 in samples with no true labels. Use `zero_division` parameter to control this behavior.\n",
            "  _warn_prf(average, modifier, f\"{metric.capitalize()} is\", len(result))\n",
            "/usr/local/lib/python3.10/dist-packages/sklearn/metrics/_classification.py:1531: UndefinedMetricWarning: F-score is ill-defined and being set to 0.0 in samples with no true nor predicted labels. Use `zero_division` parameter to control this behavior.\n",
            "  _warn_prf(average, modifier, f\"{metric.capitalize()} is\", len(result))\n"
          ]
        },
        {
          "output_type": "stream",
          "name": "stdout",
          "text": [
            "F1 Score (Fold 3): 0.48\n",
            "                 precision    recall  f1-score   support\n",
            "\n",
            "Anticancerigeno       0.83      0.34      0.48       283\n",
            "    Antitumoral       0.76      0.36      0.48        87\n",
            "\n",
            "      micro avg       0.81      0.34      0.48       370\n",
            "      macro avg       0.79      0.35      0.48       370\n",
            "   weighted avg       0.82      0.34      0.48       370\n",
            "    samples avg       0.01      0.01      0.01       370\n",
            "\n",
            "\n",
            "Fold 4/5\n"
          ]
        },
        {
          "output_type": "stream",
          "name": "stderr",
          "text": [
            "/usr/local/lib/python3.10/dist-packages/sklearn/metrics/_classification.py:1531: UndefinedMetricWarning: Precision is ill-defined and being set to 0.0 in samples with no predicted labels. Use `zero_division` parameter to control this behavior.\n",
            "  _warn_prf(average, modifier, f\"{metric.capitalize()} is\", len(result))\n",
            "/usr/local/lib/python3.10/dist-packages/sklearn/metrics/_classification.py:1531: UndefinedMetricWarning: Recall is ill-defined and being set to 0.0 in samples with no true labels. Use `zero_division` parameter to control this behavior.\n",
            "  _warn_prf(average, modifier, f\"{metric.capitalize()} is\", len(result))\n",
            "/usr/local/lib/python3.10/dist-packages/sklearn/metrics/_classification.py:1531: UndefinedMetricWarning: F-score is ill-defined and being set to 0.0 in samples with no true nor predicted labels. Use `zero_division` parameter to control this behavior.\n",
            "  _warn_prf(average, modifier, f\"{metric.capitalize()} is\", len(result))\n"
          ]
        },
        {
          "output_type": "stream",
          "name": "stdout",
          "text": [
            "F1 Score (Fold 4): 0.43\n",
            "                 precision    recall  f1-score   support\n",
            "\n",
            "Anticancerigeno       0.78      0.31      0.44       282\n",
            "    Antitumoral       0.75      0.28      0.41        86\n",
            "\n",
            "      micro avg       0.77      0.30      0.43       368\n",
            "      macro avg       0.76      0.29      0.42       368\n",
            "   weighted avg       0.77      0.30      0.43       368\n",
            "    samples avg       0.01      0.01      0.01       368\n",
            "\n",
            "\n",
            "Fold 5/5\n"
          ]
        },
        {
          "output_type": "stream",
          "name": "stderr",
          "text": [
            "/usr/local/lib/python3.10/dist-packages/sklearn/metrics/_classification.py:1531: UndefinedMetricWarning: Precision is ill-defined and being set to 0.0 in samples with no predicted labels. Use `zero_division` parameter to control this behavior.\n",
            "  _warn_prf(average, modifier, f\"{metric.capitalize()} is\", len(result))\n",
            "/usr/local/lib/python3.10/dist-packages/sklearn/metrics/_classification.py:1531: UndefinedMetricWarning: Recall is ill-defined and being set to 0.0 in samples with no true labels. Use `zero_division` parameter to control this behavior.\n",
            "  _warn_prf(average, modifier, f\"{metric.capitalize()} is\", len(result))\n",
            "/usr/local/lib/python3.10/dist-packages/sklearn/metrics/_classification.py:1531: UndefinedMetricWarning: F-score is ill-defined and being set to 0.0 in samples with no true nor predicted labels. Use `zero_division` parameter to control this behavior.\n",
            "  _warn_prf(average, modifier, f\"{metric.capitalize()} is\", len(result))\n"
          ]
        },
        {
          "output_type": "stream",
          "name": "stdout",
          "text": [
            "F1 Score (Fold 5): 0.46\n",
            "                 precision    recall  f1-score   support\n",
            "\n",
            "Anticancerigeno       0.82      0.29      0.43       283\n",
            "    Antitumoral       0.88      0.40      0.55        87\n",
            "\n",
            "      micro avg       0.84      0.32      0.46       370\n",
            "      macro avg       0.85      0.35      0.49       370\n",
            "   weighted avg       0.83      0.32      0.46       370\n",
            "    samples avg       0.01      0.01      0.01       370\n",
            "\n",
            "\n",
            "LightGBM - F1 Score Promedio: 0.49\n",
            "\n",
            "XGB - F1 Score Promedio: 0.47\n",
            "\n",
            "Extratrees - F1 Score Promedio: 0.45\n"
          ]
        },
        {
          "output_type": "stream",
          "name": "stderr",
          "text": [
            "/usr/local/lib/python3.10/dist-packages/sklearn/metrics/_classification.py:1531: UndefinedMetricWarning: Precision is ill-defined and being set to 0.0 in samples with no predicted labels. Use `zero_division` parameter to control this behavior.\n",
            "  _warn_prf(average, modifier, f\"{metric.capitalize()} is\", len(result))\n",
            "/usr/local/lib/python3.10/dist-packages/sklearn/metrics/_classification.py:1531: UndefinedMetricWarning: Recall is ill-defined and being set to 0.0 in samples with no true labels. Use `zero_division` parameter to control this behavior.\n",
            "  _warn_prf(average, modifier, f\"{metric.capitalize()} is\", len(result))\n",
            "/usr/local/lib/python3.10/dist-packages/sklearn/metrics/_classification.py:1531: UndefinedMetricWarning: F-score is ill-defined and being set to 0.0 in samples with no true nor predicted labels. Use `zero_division` parameter to control this behavior.\n",
            "  _warn_prf(average, modifier, f\"{metric.capitalize()} is\", len(result))\n"
          ]
        }
      ]
    },
    {
      "cell_type": "code",
      "source": [
        "from sklearn.model_selection import ParameterGrid, cross_val_score\n",
        "import lightgbm as lgb\n",
        "from sklearn.multioutput import MultiOutputClassifier\n",
        "\n",
        "# Definir el modelo base LGBMClassifier con parámetros variables\n",
        "model_base = lgb.LGBMClassifier(random_state=42)\n",
        "\n",
        "# Parámetros a evaluar\n",
        "param_grid = {\n",
        "    'n_estimators': [300, 500, 1000],  # Número de árboles\n",
        "    'learning_rate': [0.01, 0.1],  # Tasa de aprendizaje\n",
        "    'max_bin': [255, 300]\n",
        "}\n",
        "\n",
        "# Crear el modelo MultiOutputClassifier con LGBMClassifier\n",
        "multi_output_model = MultiOutputClassifier(model_base, n_jobs=-1)\n",
        "\n",
        "# Crear una función para ajustar el modelo y devolver el resultado\n",
        "def evaluate_model(params):\n",
        "    model_base.set_params(**params)  # Establecer los parámetros solo para el modelo base\n",
        "    multi_output_model.fit(X_train, y_train)  # Ajustar el MultiOutputClassifier\n",
        "    scores = cross_val_score(multi_output_model, X_train, y_train, cv=5, scoring='f1_weighted')\n",
        "    return {'params': params, 'mean_test_score': np.mean(scores)}\n",
        "\n",
        "# Ejecutar el ajuste con monitoreo\n",
        "results = []\n",
        "for i, params in enumerate(ParameterGrid(param_grid)):\n",
        "    print(f\"Evaluando combinación {i + 1}/{len(ParameterGrid(param_grid))}: {params}\")\n",
        "    result = evaluate_model(params)\n",
        "    results.append(result)\n",
        "\n",
        "# Convertir a DataFrame para una visualización más clara\n",
        "results_df = pd.DataFrame(results)\n",
        "\n",
        "# Mejor resultado\n",
        "best_result = results_df.loc[results_df['mean_test_score'].idxmax()]\n",
        "print(\"\\nMejores parámetros:\", best_result['params'])\n",
        "print(\"Mejor F1 Score:\", best_result['mean_test_score'])"
      ],
      "metadata": {
        "id": "WIdzm_kT3s1d"
      },
      "execution_count": null,
      "outputs": []
    },
    {
      "cell_type": "markdown",
      "source": [
        "##Fase 3"
      ],
      "metadata": {
        "id": "PBctS_zXBMYi"
      }
    },
    {
      "cell_type": "code",
      "source": [
        "X_train_temp, y_functionalities"
      ],
      "metadata": {
        "id": "RzqBT5ieDSe9",
        "colab": {
          "base_uri": "https://localhost:8080/"
        },
        "collapsed": true,
        "outputId": "c88c4b04-4eb4-4597-e37c-ebadeae23ea0"
      },
      "execution_count": null,
      "outputs": [
        {
          "output_type": "execute_result",
          "data": {
            "text/plain": [
              "(       Longitud  Indice_Boman     Carga  Punto_Isoelectrico  Hidrofobicidad  \\\n",
              " 0      0.139785      0.203037  0.341587            0.626807        0.681102   \n",
              " 1      0.182796      0.277942  0.370938            0.723789        0.537257   \n",
              " 2      0.086022      0.432109  0.356255            0.682366        0.311825   \n",
              " 3      0.322581      0.227628  0.401222            0.689474        0.618085   \n",
              " 4      0.032258      0.121394  0.322523            0.308697        0.725313   \n",
              " ...         ...           ...       ...                 ...             ...   \n",
              " 14532  0.956989      0.313810  0.262770            0.192312        0.562486   \n",
              " 14533  0.053763      0.264485  0.372381            0.750300        0.534587   \n",
              " 14534  0.021505      0.473225  0.370928            0.900177        0.464462   \n",
              " 14535  0.258065      0.300647  0.385075            0.672971        0.557977   \n",
              " 14536  0.075269      0.119672  0.338653            0.626458        0.750759   \n",
              " \n",
              "               R         N         D         C         E  ...    PAAC13  \\\n",
              " 0      0.000000  0.096428  0.000000  0.000000  0.000000  ...  0.000000   \n",
              " 1      0.000000  0.000000  0.000000  0.000000  0.087128  ...  0.107056   \n",
              " 2      0.000000  0.128577  0.186661  0.000000  0.000000  ...  0.349846   \n",
              " 3      0.000000  0.000000  0.000000  0.099092  0.113014  ...  0.000000   \n",
              " 4      0.000000  0.000000  0.000000  0.000000  0.000000  ...  0.000000   \n",
              " ...         ...       ...       ...       ...       ...  ...       ...   \n",
              " 14532  0.026311  0.100440  0.072912  0.248272  0.174236  ...  0.090623   \n",
              " 14533  0.000000  0.160707  0.000000  0.000000  0.000000  ...  0.000000   \n",
              " 14534  0.421047  0.000000  0.000000  0.000000  0.000000  ...  0.000000   \n",
              " 14535  0.040749  0.124431  0.045164  0.118288  0.067453  ...  0.000000   \n",
              " 14536  0.000000  0.137757  0.000000  0.000000  0.000000  ...  0.000000   \n",
              " \n",
              "          PAAC15    PAAC16    PAAC17    PAAC18    PAAC19    PAAC21    PAAC22  \\\n",
              " 0      0.062559  0.107902  0.000000  0.000000  0.000000  0.254567  0.305878   \n",
              " 1      0.000000  0.076239  0.063735  0.063272  0.000000  0.440055  0.427968   \n",
              " 2      0.072244  0.000000  0.000000  0.103395  0.000000  0.394839  0.299442   \n",
              " 3      0.000000  0.025711  0.000000  0.000000  0.000000  0.390158  0.412179   \n",
              " 4      0.437219  0.125687  0.000000  0.000000  0.000000  0.135990  0.088701   \n",
              " ...         ...       ...       ...       ...       ...       ...       ...   \n",
              " 14532  0.049909  0.053795  0.107903  0.000000  0.070009  0.293846  0.269875   \n",
              " 14533  0.000000  0.000000  0.000000  0.114616  0.000000  0.484528  0.392266   \n",
              " 14534  0.000000  0.000000  0.000000  0.252664  0.000000  0.209351  0.386081   \n",
              " 14535  0.000000  0.028993  0.096932  0.048114  0.000000  0.398721  0.349977   \n",
              " 14536  0.092059  0.000000  0.000000  0.000000  0.000000  0.202329  0.305677   \n",
              " \n",
              "          PAAC24    PAAC25  \n",
              " 0      0.190240  0.257368  \n",
              " 1      0.285361  0.359044  \n",
              " 2      0.362942  0.349828  \n",
              " 3      0.202669  0.339625  \n",
              " 4      0.203529  0.059537  \n",
              " ...         ...       ...  \n",
              " 14532  0.276537  0.288812  \n",
              " 14533  0.303707  0.545589  \n",
              " 14534  0.755797  0.776737  \n",
              " 14535  0.344596  0.438196  \n",
              " 14536  0.166676  0.260867  \n",
              " \n",
              " [14537 rows x 245 columns],\n",
              "        Antifúngico  Antiviral  Antibacteriano  Anti Gram +  Anti Gram -  \\\n",
              " 0              0.0        0.0             1.0          1.0          1.0   \n",
              " 1              0.0        0.0             1.0          1.0          1.0   \n",
              " 2              0.0        0.0             0.0          1.0          1.0   \n",
              " 3              0.0        0.0             1.0          1.0          1.0   \n",
              " 4              0.0        0.0             0.0          1.0          1.0   \n",
              " ...            ...        ...             ...          ...          ...   \n",
              " 14532          1.0        0.0             0.0          0.0          0.0   \n",
              " 14533          1.0        0.0             0.0          1.0          1.0   \n",
              " 14534          1.0        0.0             1.0          1.0          1.0   \n",
              " 14535          1.0        1.0             1.0          1.0          1.0   \n",
              " 14536          1.0        0.0             0.0          1.0          1.0   \n",
              " \n",
              "        AntiVIH  Antiparasitario  \n",
              " 0          0.0              0.0  \n",
              " 1          0.0              0.0  \n",
              " 2          0.0              0.0  \n",
              " 3          0.0              0.0  \n",
              " 4          0.0              0.0  \n",
              " ...        ...              ...  \n",
              " 14532      0.0              0.0  \n",
              " 14533      0.0              0.0  \n",
              " 14534      0.0              0.0  \n",
              " 14535      0.0              0.0  \n",
              " 14536      0.0              0.0  \n",
              " \n",
              " [14537 rows x 7 columns])"
            ]
          },
          "metadata": {},
          "execution_count": 26
        }
      ]
    },
    {
      "cell_type": "code",
      "source": [
        "#Eliminamos las filas con péptidos totalmente negativos\n",
        "mask = ~((y_functionalities['Antifúngico'] == 0) &\n",
        "        (y_functionalities['Antiviral'] == 0) &\n",
        "        (y_functionalities['Antibacteriano'] == 0) &\n",
        "        (y_functionalities['Anti Gram +'] == 0) &\n",
        "        (y_functionalities['Anti Gram -'] == 0) &\n",
        "        (y_functionalities['AntiVIH'] == 0)  &\n",
        "        (y_functionalities['Antiparasitario'] == 0))\n",
        "\n",
        "y_functionalities = y_functionalities[mask].reset_index(drop=True)\n",
        "X_train_temp = X_train_temp[mask].reset_index(drop=True)"
      ],
      "metadata": {
        "id": "Dy5sLjn_BLgi"
      },
      "execution_count": null,
      "outputs": []
    },
    {
      "cell_type": "code",
      "source": [
        "y_val_phase3, X_val"
      ],
      "metadata": {
        "id": "pK2I208LdnKJ",
        "colab": {
          "base_uri": "https://localhost:8080/"
        },
        "collapsed": true,
        "outputId": "06130f5f-2f82-499f-db5b-cf0d3ab8f1bf"
      },
      "execution_count": null,
      "outputs": [
        {
          "output_type": "execute_result",
          "data": {
            "text/plain": [
              "(       Antifúngico  Antiviral  Antibacteriano  Anti Gram +  Anti Gram -  \\\n",
              " 8969           0.0        0.0             0.0          0.0          0.0   \n",
              " 7745           0.0        1.0             0.0          0.0          0.0   \n",
              " 879            1.0        1.0             1.0          1.0          1.0   \n",
              " 34290          0.0        0.0             0.0          0.0          0.0   \n",
              " 21866          0.0        0.0             0.0          0.0          0.0   \n",
              " ...            ...        ...             ...          ...          ...   \n",
              " 16801          1.0        0.0             1.0          0.0          0.0   \n",
              " 4844           0.0        0.0             0.0          1.0          1.0   \n",
              " 32542          0.0        0.0             0.0          0.0          0.0   \n",
              " 10210          0.0        1.0             0.0          0.0          0.0   \n",
              " 17593          0.0        0.0             1.0          0.0          0.0   \n",
              " \n",
              "        AntiVIH  Antiparasitario  \n",
              " 8969       0.0              0.0  \n",
              " 7745       0.0              0.0  \n",
              " 879        0.0              0.0  \n",
              " 34290      0.0              0.0  \n",
              " 21866      0.0              0.0  \n",
              " ...        ...              ...  \n",
              " 16801      0.0              0.0  \n",
              " 4844       0.0              0.0  \n",
              " 32542      0.0              0.0  \n",
              " 10210      0.0              0.0  \n",
              " 17593      0.0              0.0  \n",
              " \n",
              " [8168 rows x 7 columns],\n",
              "        Longitud  Indice_Boman     Carga  Punto_Isoelectrico  Hidrofobicidad  \\\n",
              " 8969   0.408602      0.335562  0.371012            0.681904        0.473575   \n",
              " 7745   0.118280      0.122960  0.322523            0.308697        0.742826   \n",
              " 879    0.279570      0.417703  0.447099            0.794138        0.566333   \n",
              " 34290  0.268817      0.220509  0.290741            0.150542        0.714661   \n",
              " 21866  0.129032      0.245326  0.352786            0.548366        0.628730   \n",
              " ...         ...           ...       ...                 ...             ...   \n",
              " 16801  0.731183      0.336716  0.337694            0.516392        0.553083   \n",
              " 4844   0.086022      0.212695  0.387044            0.765772        0.628775   \n",
              " 32542  0.204301      0.320021  0.343106            0.612424        0.546498   \n",
              " 10210  0.161290      0.110146  0.322523            0.308697        0.768067   \n",
              " 17593  0.591398      0.345616  0.303550            0.211705        0.525321   \n",
              " \n",
              "               R         N         D         C         E  ...    PAAC13  \\\n",
              " 8969   0.000000  0.171430  0.031108  0.000000  0.185861  ...  0.000000   \n",
              " 7745   0.000000  0.107151  0.000000  0.000000  0.000000  ...  0.163097   \n",
              " 879    0.344500  0.000000  0.000000  0.333339  0.063355  ...  0.000000   \n",
              " 34290  0.039474  0.000000  0.131249  0.057292  0.000000  ...  0.187029   \n",
              " 21866  0.000000  0.000000  0.073682  0.192978  0.000000  ...  0.000000   \n",
              " ...         ...       ...       ...       ...       ...  ...       ...   \n",
              " 16801  0.101052  0.025708  0.149337  0.024439  0.055765  ...  0.035619   \n",
              " 4844   0.000000  0.000000  0.000000  0.000000  0.000000  ...  0.000000   \n",
              " 32542  0.048581  0.074173  0.000000  0.000000  0.160833  ...  0.104144   \n",
              " 10210  0.000000  0.087653  0.000000  0.000000  0.000000  ...  0.134937   \n",
              " 17593  0.081499  0.000000  0.090327  0.088716  0.202338  ...  0.087192   \n",
              " \n",
              "          PAAC15    PAAC16    PAAC17    PAAC18    PAAC19    PAAC21    PAAC22  \\\n",
              " 8969   0.047734  0.061750  0.103225  0.102475  0.000000  0.353106  0.391965   \n",
              " 7745   0.000000  0.000000  0.000000  0.096393  0.000000  0.262960  0.243174   \n",
              " 879    0.054323  0.000000  0.000000  0.000000  0.000000  0.392156  0.363806   \n",
              " 34290  0.000000  0.066608  0.111346  0.000000  0.000000  0.208838  0.251571   \n",
              " 21866  0.000000  0.000000  0.256459  0.000000  0.000000  0.321592  0.245688   \n",
              " ...         ...       ...       ...       ...       ...       ...       ...   \n",
              " 16801  0.029418  0.063426  0.021205  0.021051  0.110067  0.322905  0.307839   \n",
              " 4844   0.000000  0.000000  0.101444  0.100707  0.000000  0.364296  0.568965   \n",
              " 32542  0.000000  0.074179  0.062001  0.000000  0.000000  0.340032  0.372304   \n",
              " 10210  0.000000  0.000000  0.000000  0.079750  0.000000  0.299954  0.287877   \n",
              " 17593  0.054010  0.077631  0.077864  0.025766  0.033679  0.277232  0.333937   \n",
              " \n",
              "          PAAC24    PAAC25  \n",
              " 8969   0.359068  0.332775  \n",
              " 7745   0.307850  0.279793  \n",
              " 879    0.505515  0.501035  \n",
              " 34290  0.275085  0.227945  \n",
              " 21866  0.330823  0.403844  \n",
              " ...         ...       ...  \n",
              " 16801  0.352397  0.368359  \n",
              " 4844   0.160166  0.337309  \n",
              " 32542  0.286329  0.264810  \n",
              " 10210  0.237478  0.256432  \n",
              " 17593  0.365847  0.305914  \n",
              " \n",
              " [8168 rows x 245 columns])"
            ]
          },
          "metadata": {},
          "execution_count": 21
        }
      ]
    },
    {
      "cell_type": "code",
      "source": [
        "#Eliminamos las filas con péptidos totalmente negativos\n",
        "mask = ~((y_val_phase3['Antifúngico'] == 0) &\n",
        "        (y_val_phase3['Antiviral'] == 0) &\n",
        "        (y_val_phase3['Antibacteriano'] == 0) &\n",
        "        (y_val_phase3['Anti Gram +'] == 0) &\n",
        "        (y_val_phase3['Anti Gram -'] == 0) &\n",
        "        (y_val_phase3['AntiVIH'] == 0)  &\n",
        "        (y_val_phase3['Antiparasitario'] == 0))\n",
        "\n",
        "y_val_phase3 = y_val_phase3[mask].reset_index(drop=True)\n",
        "X_val = X_val[mask].reset_index(drop=True)"
      ],
      "metadata": {
        "id": "FphDWxFxdmML"
      },
      "execution_count": null,
      "outputs": []
    },
    {
      "cell_type": "code",
      "source": [
        "X_train_temp.shape, y_functionalities.shape"
      ],
      "metadata": {
        "colab": {
          "base_uri": "https://localhost:8080/"
        },
        "id": "pem5OPMnEvPW",
        "outputId": "f9191792-0cd7-4ce7-bef5-7924047b7b8a"
      },
      "execution_count": null,
      "outputs": [
        {
          "output_type": "execute_result",
          "data": {
            "text/plain": [
              "((14537, 245), (14537, 7))"
            ]
          },
          "metadata": {},
          "execution_count": 23
        }
      ]
    },
    {
      "cell_type": "code",
      "source": [
        "y_functionalities"
      ],
      "metadata": {
        "colab": {
          "base_uri": "https://localhost:8080/",
          "height": 423
        },
        "id": "thEsT4ddEzpm",
        "outputId": "8e80c6a7-dcde-4fcd-a63d-650a6c0c3e8a"
      },
      "execution_count": null,
      "outputs": [
        {
          "output_type": "execute_result",
          "data": {
            "text/plain": [
              "       Antifúngico  Antiviral  Antibacteriano  Anti Gram +  Anti Gram -  \\\n",
              "0              0.0        0.0             1.0          1.0          1.0   \n",
              "1              0.0        0.0             1.0          1.0          1.0   \n",
              "2              0.0        0.0             0.0          1.0          1.0   \n",
              "3              0.0        0.0             1.0          1.0          1.0   \n",
              "4              0.0        0.0             0.0          1.0          1.0   \n",
              "...            ...        ...             ...          ...          ...   \n",
              "14532          1.0        0.0             0.0          0.0          0.0   \n",
              "14533          1.0        0.0             0.0          1.0          1.0   \n",
              "14534          1.0        0.0             1.0          1.0          1.0   \n",
              "14535          1.0        1.0             1.0          1.0          1.0   \n",
              "14536          1.0        0.0             0.0          1.0          1.0   \n",
              "\n",
              "       AntiVIH  Antiparasitario  \n",
              "0          0.0              0.0  \n",
              "1          0.0              0.0  \n",
              "2          0.0              0.0  \n",
              "3          0.0              0.0  \n",
              "4          0.0              0.0  \n",
              "...        ...              ...  \n",
              "14532      0.0              0.0  \n",
              "14533      0.0              0.0  \n",
              "14534      0.0              0.0  \n",
              "14535      0.0              0.0  \n",
              "14536      0.0              0.0  \n",
              "\n",
              "[14537 rows x 7 columns]"
            ],
            "text/html": [
              "\n",
              "  <div id=\"df-2cdd127f-c0af-4800-b665-cc96db970418\" class=\"colab-df-container\">\n",
              "    <div>\n",
              "<style scoped>\n",
              "    .dataframe tbody tr th:only-of-type {\n",
              "        vertical-align: middle;\n",
              "    }\n",
              "\n",
              "    .dataframe tbody tr th {\n",
              "        vertical-align: top;\n",
              "    }\n",
              "\n",
              "    .dataframe thead th {\n",
              "        text-align: right;\n",
              "    }\n",
              "</style>\n",
              "<table border=\"1\" class=\"dataframe\">\n",
              "  <thead>\n",
              "    <tr style=\"text-align: right;\">\n",
              "      <th></th>\n",
              "      <th>Antifúngico</th>\n",
              "      <th>Antiviral</th>\n",
              "      <th>Antibacteriano</th>\n",
              "      <th>Anti Gram +</th>\n",
              "      <th>Anti Gram -</th>\n",
              "      <th>AntiVIH</th>\n",
              "      <th>Antiparasitario</th>\n",
              "    </tr>\n",
              "  </thead>\n",
              "  <tbody>\n",
              "    <tr>\n",
              "      <th>0</th>\n",
              "      <td>0.0</td>\n",
              "      <td>0.0</td>\n",
              "      <td>1.0</td>\n",
              "      <td>1.0</td>\n",
              "      <td>1.0</td>\n",
              "      <td>0.0</td>\n",
              "      <td>0.0</td>\n",
              "    </tr>\n",
              "    <tr>\n",
              "      <th>1</th>\n",
              "      <td>0.0</td>\n",
              "      <td>0.0</td>\n",
              "      <td>1.0</td>\n",
              "      <td>1.0</td>\n",
              "      <td>1.0</td>\n",
              "      <td>0.0</td>\n",
              "      <td>0.0</td>\n",
              "    </tr>\n",
              "    <tr>\n",
              "      <th>2</th>\n",
              "      <td>0.0</td>\n",
              "      <td>0.0</td>\n",
              "      <td>0.0</td>\n",
              "      <td>1.0</td>\n",
              "      <td>1.0</td>\n",
              "      <td>0.0</td>\n",
              "      <td>0.0</td>\n",
              "    </tr>\n",
              "    <tr>\n",
              "      <th>3</th>\n",
              "      <td>0.0</td>\n",
              "      <td>0.0</td>\n",
              "      <td>1.0</td>\n",
              "      <td>1.0</td>\n",
              "      <td>1.0</td>\n",
              "      <td>0.0</td>\n",
              "      <td>0.0</td>\n",
              "    </tr>\n",
              "    <tr>\n",
              "      <th>4</th>\n",
              "      <td>0.0</td>\n",
              "      <td>0.0</td>\n",
              "      <td>0.0</td>\n",
              "      <td>1.0</td>\n",
              "      <td>1.0</td>\n",
              "      <td>0.0</td>\n",
              "      <td>0.0</td>\n",
              "    </tr>\n",
              "    <tr>\n",
              "      <th>...</th>\n",
              "      <td>...</td>\n",
              "      <td>...</td>\n",
              "      <td>...</td>\n",
              "      <td>...</td>\n",
              "      <td>...</td>\n",
              "      <td>...</td>\n",
              "      <td>...</td>\n",
              "    </tr>\n",
              "    <tr>\n",
              "      <th>14532</th>\n",
              "      <td>1.0</td>\n",
              "      <td>0.0</td>\n",
              "      <td>0.0</td>\n",
              "      <td>0.0</td>\n",
              "      <td>0.0</td>\n",
              "      <td>0.0</td>\n",
              "      <td>0.0</td>\n",
              "    </tr>\n",
              "    <tr>\n",
              "      <th>14533</th>\n",
              "      <td>1.0</td>\n",
              "      <td>0.0</td>\n",
              "      <td>0.0</td>\n",
              "      <td>1.0</td>\n",
              "      <td>1.0</td>\n",
              "      <td>0.0</td>\n",
              "      <td>0.0</td>\n",
              "    </tr>\n",
              "    <tr>\n",
              "      <th>14534</th>\n",
              "      <td>1.0</td>\n",
              "      <td>0.0</td>\n",
              "      <td>1.0</td>\n",
              "      <td>1.0</td>\n",
              "      <td>1.0</td>\n",
              "      <td>0.0</td>\n",
              "      <td>0.0</td>\n",
              "    </tr>\n",
              "    <tr>\n",
              "      <th>14535</th>\n",
              "      <td>1.0</td>\n",
              "      <td>1.0</td>\n",
              "      <td>1.0</td>\n",
              "      <td>1.0</td>\n",
              "      <td>1.0</td>\n",
              "      <td>0.0</td>\n",
              "      <td>0.0</td>\n",
              "    </tr>\n",
              "    <tr>\n",
              "      <th>14536</th>\n",
              "      <td>1.0</td>\n",
              "      <td>0.0</td>\n",
              "      <td>0.0</td>\n",
              "      <td>1.0</td>\n",
              "      <td>1.0</td>\n",
              "      <td>0.0</td>\n",
              "      <td>0.0</td>\n",
              "    </tr>\n",
              "  </tbody>\n",
              "</table>\n",
              "<p>14537 rows × 7 columns</p>\n",
              "</div>\n",
              "    <div class=\"colab-df-buttons\">\n",
              "\n",
              "  <div class=\"colab-df-container\">\n",
              "    <button class=\"colab-df-convert\" onclick=\"convertToInteractive('df-2cdd127f-c0af-4800-b665-cc96db970418')\"\n",
              "            title=\"Convert this dataframe to an interactive table.\"\n",
              "            style=\"display:none;\">\n",
              "\n",
              "  <svg xmlns=\"http://www.w3.org/2000/svg\" height=\"24px\" viewBox=\"0 -960 960 960\">\n",
              "    <path d=\"M120-120v-720h720v720H120Zm60-500h600v-160H180v160Zm220 220h160v-160H400v160Zm0 220h160v-160H400v160ZM180-400h160v-160H180v160Zm440 0h160v-160H620v160ZM180-180h160v-160H180v160Zm440 0h160v-160H620v160Z\"/>\n",
              "  </svg>\n",
              "    </button>\n",
              "\n",
              "  <style>\n",
              "    .colab-df-container {\n",
              "      display:flex;\n",
              "      gap: 12px;\n",
              "    }\n",
              "\n",
              "    .colab-df-convert {\n",
              "      background-color: #E8F0FE;\n",
              "      border: none;\n",
              "      border-radius: 50%;\n",
              "      cursor: pointer;\n",
              "      display: none;\n",
              "      fill: #1967D2;\n",
              "      height: 32px;\n",
              "      padding: 0 0 0 0;\n",
              "      width: 32px;\n",
              "    }\n",
              "\n",
              "    .colab-df-convert:hover {\n",
              "      background-color: #E2EBFA;\n",
              "      box-shadow: 0px 1px 2px rgba(60, 64, 67, 0.3), 0px 1px 3px 1px rgba(60, 64, 67, 0.15);\n",
              "      fill: #174EA6;\n",
              "    }\n",
              "\n",
              "    .colab-df-buttons div {\n",
              "      margin-bottom: 4px;\n",
              "    }\n",
              "\n",
              "    [theme=dark] .colab-df-convert {\n",
              "      background-color: #3B4455;\n",
              "      fill: #D2E3FC;\n",
              "    }\n",
              "\n",
              "    [theme=dark] .colab-df-convert:hover {\n",
              "      background-color: #434B5C;\n",
              "      box-shadow: 0px 1px 3px 1px rgba(0, 0, 0, 0.15);\n",
              "      filter: drop-shadow(0px 1px 2px rgba(0, 0, 0, 0.3));\n",
              "      fill: #FFFFFF;\n",
              "    }\n",
              "  </style>\n",
              "\n",
              "    <script>\n",
              "      const buttonEl =\n",
              "        document.querySelector('#df-2cdd127f-c0af-4800-b665-cc96db970418 button.colab-df-convert');\n",
              "      buttonEl.style.display =\n",
              "        google.colab.kernel.accessAllowed ? 'block' : 'none';\n",
              "\n",
              "      async function convertToInteractive(key) {\n",
              "        const element = document.querySelector('#df-2cdd127f-c0af-4800-b665-cc96db970418');\n",
              "        const dataTable =\n",
              "          await google.colab.kernel.invokeFunction('convertToInteractive',\n",
              "                                                    [key], {});\n",
              "        if (!dataTable) return;\n",
              "\n",
              "        const docLinkHtml = 'Like what you see? Visit the ' +\n",
              "          '<a target=\"_blank\" href=https://colab.research.google.com/notebooks/data_table.ipynb>data table notebook</a>'\n",
              "          + ' to learn more about interactive tables.';\n",
              "        element.innerHTML = '';\n",
              "        dataTable['output_type'] = 'display_data';\n",
              "        await google.colab.output.renderOutput(dataTable, element);\n",
              "        const docLink = document.createElement('div');\n",
              "        docLink.innerHTML = docLinkHtml;\n",
              "        element.appendChild(docLink);\n",
              "      }\n",
              "    </script>\n",
              "  </div>\n",
              "\n",
              "\n",
              "<div id=\"df-1184abf4-2846-47d8-8997-dd6f2b26c2ff\">\n",
              "  <button class=\"colab-df-quickchart\" onclick=\"quickchart('df-1184abf4-2846-47d8-8997-dd6f2b26c2ff')\"\n",
              "            title=\"Suggest charts\"\n",
              "            style=\"display:none;\">\n",
              "\n",
              "<svg xmlns=\"http://www.w3.org/2000/svg\" height=\"24px\"viewBox=\"0 0 24 24\"\n",
              "     width=\"24px\">\n",
              "    <g>\n",
              "        <path d=\"M19 3H5c-1.1 0-2 .9-2 2v14c0 1.1.9 2 2 2h14c1.1 0 2-.9 2-2V5c0-1.1-.9-2-2-2zM9 17H7v-7h2v7zm4 0h-2V7h2v10zm4 0h-2v-4h2v4z\"/>\n",
              "    </g>\n",
              "</svg>\n",
              "  </button>\n",
              "\n",
              "<style>\n",
              "  .colab-df-quickchart {\n",
              "      --bg-color: #E8F0FE;\n",
              "      --fill-color: #1967D2;\n",
              "      --hover-bg-color: #E2EBFA;\n",
              "      --hover-fill-color: #174EA6;\n",
              "      --disabled-fill-color: #AAA;\n",
              "      --disabled-bg-color: #DDD;\n",
              "  }\n",
              "\n",
              "  [theme=dark] .colab-df-quickchart {\n",
              "      --bg-color: #3B4455;\n",
              "      --fill-color: #D2E3FC;\n",
              "      --hover-bg-color: #434B5C;\n",
              "      --hover-fill-color: #FFFFFF;\n",
              "      --disabled-bg-color: #3B4455;\n",
              "      --disabled-fill-color: #666;\n",
              "  }\n",
              "\n",
              "  .colab-df-quickchart {\n",
              "    background-color: var(--bg-color);\n",
              "    border: none;\n",
              "    border-radius: 50%;\n",
              "    cursor: pointer;\n",
              "    display: none;\n",
              "    fill: var(--fill-color);\n",
              "    height: 32px;\n",
              "    padding: 0;\n",
              "    width: 32px;\n",
              "  }\n",
              "\n",
              "  .colab-df-quickchart:hover {\n",
              "    background-color: var(--hover-bg-color);\n",
              "    box-shadow: 0 1px 2px rgba(60, 64, 67, 0.3), 0 1px 3px 1px rgba(60, 64, 67, 0.15);\n",
              "    fill: var(--button-hover-fill-color);\n",
              "  }\n",
              "\n",
              "  .colab-df-quickchart-complete:disabled,\n",
              "  .colab-df-quickchart-complete:disabled:hover {\n",
              "    background-color: var(--disabled-bg-color);\n",
              "    fill: var(--disabled-fill-color);\n",
              "    box-shadow: none;\n",
              "  }\n",
              "\n",
              "  .colab-df-spinner {\n",
              "    border: 2px solid var(--fill-color);\n",
              "    border-color: transparent;\n",
              "    border-bottom-color: var(--fill-color);\n",
              "    animation:\n",
              "      spin 1s steps(1) infinite;\n",
              "  }\n",
              "\n",
              "  @keyframes spin {\n",
              "    0% {\n",
              "      border-color: transparent;\n",
              "      border-bottom-color: var(--fill-color);\n",
              "      border-left-color: var(--fill-color);\n",
              "    }\n",
              "    20% {\n",
              "      border-color: transparent;\n",
              "      border-left-color: var(--fill-color);\n",
              "      border-top-color: var(--fill-color);\n",
              "    }\n",
              "    30% {\n",
              "      border-color: transparent;\n",
              "      border-left-color: var(--fill-color);\n",
              "      border-top-color: var(--fill-color);\n",
              "      border-right-color: var(--fill-color);\n",
              "    }\n",
              "    40% {\n",
              "      border-color: transparent;\n",
              "      border-right-color: var(--fill-color);\n",
              "      border-top-color: var(--fill-color);\n",
              "    }\n",
              "    60% {\n",
              "      border-color: transparent;\n",
              "      border-right-color: var(--fill-color);\n",
              "    }\n",
              "    80% {\n",
              "      border-color: transparent;\n",
              "      border-right-color: var(--fill-color);\n",
              "      border-bottom-color: var(--fill-color);\n",
              "    }\n",
              "    90% {\n",
              "      border-color: transparent;\n",
              "      border-bottom-color: var(--fill-color);\n",
              "    }\n",
              "  }\n",
              "</style>\n",
              "\n",
              "  <script>\n",
              "    async function quickchart(key) {\n",
              "      const quickchartButtonEl =\n",
              "        document.querySelector('#' + key + ' button');\n",
              "      quickchartButtonEl.disabled = true;  // To prevent multiple clicks.\n",
              "      quickchartButtonEl.classList.add('colab-df-spinner');\n",
              "      try {\n",
              "        const charts = await google.colab.kernel.invokeFunction(\n",
              "            'suggestCharts', [key], {});\n",
              "      } catch (error) {\n",
              "        console.error('Error during call to suggestCharts:', error);\n",
              "      }\n",
              "      quickchartButtonEl.classList.remove('colab-df-spinner');\n",
              "      quickchartButtonEl.classList.add('colab-df-quickchart-complete');\n",
              "    }\n",
              "    (() => {\n",
              "      let quickchartButtonEl =\n",
              "        document.querySelector('#df-1184abf4-2846-47d8-8997-dd6f2b26c2ff button');\n",
              "      quickchartButtonEl.style.display =\n",
              "        google.colab.kernel.accessAllowed ? 'block' : 'none';\n",
              "    })();\n",
              "  </script>\n",
              "</div>\n",
              "\n",
              "  <div id=\"id_c16e22a7-5f57-45dd-a1d0-4fc045b34e78\">\n",
              "    <style>\n",
              "      .colab-df-generate {\n",
              "        background-color: #E8F0FE;\n",
              "        border: none;\n",
              "        border-radius: 50%;\n",
              "        cursor: pointer;\n",
              "        display: none;\n",
              "        fill: #1967D2;\n",
              "        height: 32px;\n",
              "        padding: 0 0 0 0;\n",
              "        width: 32px;\n",
              "      }\n",
              "\n",
              "      .colab-df-generate:hover {\n",
              "        background-color: #E2EBFA;\n",
              "        box-shadow: 0px 1px 2px rgba(60, 64, 67, 0.3), 0px 1px 3px 1px rgba(60, 64, 67, 0.15);\n",
              "        fill: #174EA6;\n",
              "      }\n",
              "\n",
              "      [theme=dark] .colab-df-generate {\n",
              "        background-color: #3B4455;\n",
              "        fill: #D2E3FC;\n",
              "      }\n",
              "\n",
              "      [theme=dark] .colab-df-generate:hover {\n",
              "        background-color: #434B5C;\n",
              "        box-shadow: 0px 1px 3px 1px rgba(0, 0, 0, 0.15);\n",
              "        filter: drop-shadow(0px 1px 2px rgba(0, 0, 0, 0.3));\n",
              "        fill: #FFFFFF;\n",
              "      }\n",
              "    </style>\n",
              "    <button class=\"colab-df-generate\" onclick=\"generateWithVariable('y_functionalities')\"\n",
              "            title=\"Generate code using this dataframe.\"\n",
              "            style=\"display:none;\">\n",
              "\n",
              "  <svg xmlns=\"http://www.w3.org/2000/svg\" height=\"24px\"viewBox=\"0 0 24 24\"\n",
              "       width=\"24px\">\n",
              "    <path d=\"M7,19H8.4L18.45,9,17,7.55,7,17.6ZM5,21V16.75L18.45,3.32a2,2,0,0,1,2.83,0l1.4,1.43a1.91,1.91,0,0,1,.58,1.4,1.91,1.91,0,0,1-.58,1.4L9.25,21ZM18.45,9,17,7.55Zm-12,3A5.31,5.31,0,0,0,4.9,8.1,5.31,5.31,0,0,0,1,6.5,5.31,5.31,0,0,0,4.9,4.9,5.31,5.31,0,0,0,6.5,1,5.31,5.31,0,0,0,8.1,4.9,5.31,5.31,0,0,0,12,6.5,5.46,5.46,0,0,0,6.5,12Z\"/>\n",
              "  </svg>\n",
              "    </button>\n",
              "    <script>\n",
              "      (() => {\n",
              "      const buttonEl =\n",
              "        document.querySelector('#id_c16e22a7-5f57-45dd-a1d0-4fc045b34e78 button.colab-df-generate');\n",
              "      buttonEl.style.display =\n",
              "        google.colab.kernel.accessAllowed ? 'block' : 'none';\n",
              "\n",
              "      buttonEl.onclick = () => {\n",
              "        google.colab.notebook.generateWithVariable('y_functionalities');\n",
              "      }\n",
              "      })();\n",
              "    </script>\n",
              "  </div>\n",
              "\n",
              "    </div>\n",
              "  </div>\n"
            ],
            "application/vnd.google.colaboratory.intrinsic+json": {
              "type": "dataframe",
              "variable_name": "y_functionalities",
              "summary": "{\n  \"name\": \"y_functionalities\",\n  \"rows\": 14537,\n  \"fields\": [\n    {\n      \"column\": \"Antif\\u00fangico\",\n      \"properties\": {\n        \"dtype\": \"number\",\n        \"std\": 0.46997436441715534,\n        \"min\": 0.0,\n        \"max\": 1.0,\n        \"num_unique_values\": 2,\n        \"samples\": [\n          1.0,\n          0.0\n        ],\n        \"semantic_type\": \"\",\n        \"description\": \"\"\n      }\n    },\n    {\n      \"column\": \"Antiviral\",\n      \"properties\": {\n        \"dtype\": \"number\",\n        \"std\": 0.42353109843059666,\n        \"min\": 0.0,\n        \"max\": 1.0,\n        \"num_unique_values\": 2,\n        \"samples\": [\n          1.0,\n          0.0\n        ],\n        \"semantic_type\": \"\",\n        \"description\": \"\"\n      }\n    },\n    {\n      \"column\": \"Antibacteriano\",\n      \"properties\": {\n        \"dtype\": \"number\",\n        \"std\": 0.4979734695324232,\n        \"min\": 0.0,\n        \"max\": 1.0,\n        \"num_unique_values\": 2,\n        \"samples\": [\n          0.0,\n          1.0\n        ],\n        \"semantic_type\": \"\",\n        \"description\": \"\"\n      }\n    },\n    {\n      \"column\": \"Anti Gram +\",\n      \"properties\": {\n        \"dtype\": \"number\",\n        \"std\": 0.4998054704983405,\n        \"min\": 0.0,\n        \"max\": 1.0,\n        \"num_unique_values\": 2,\n        \"samples\": [\n          0.0,\n          1.0\n        ],\n        \"semantic_type\": \"\",\n        \"description\": \"\"\n      }\n    },\n    {\n      \"column\": \"Anti Gram -\",\n      \"properties\": {\n        \"dtype\": \"number\",\n        \"std\": 0.4997081820846946,\n        \"min\": 0.0,\n        \"max\": 1.0,\n        \"num_unique_values\": 2,\n        \"samples\": [\n          0.0,\n          1.0\n        ],\n        \"semantic_type\": \"\",\n        \"description\": \"\"\n      }\n    },\n    {\n      \"column\": \"AntiVIH\",\n      \"properties\": {\n        \"dtype\": \"number\",\n        \"std\": 0.2243893427867901,\n        \"min\": 0.0,\n        \"max\": 1.0,\n        \"num_unique_values\": 2,\n        \"samples\": [\n          1.0,\n          0.0\n        ],\n        \"semantic_type\": \"\",\n        \"description\": \"\"\n      }\n    },\n    {\n      \"column\": \"Antiparasitario\",\n      \"properties\": {\n        \"dtype\": \"number\",\n        \"std\": 0.1504870990176653,\n        \"min\": 0.0,\n        \"max\": 1.0,\n        \"num_unique_values\": 2,\n        \"samples\": [\n          1.0,\n          0.0\n        ],\n        \"semantic_type\": \"\",\n        \"description\": \"\"\n      }\n    }\n  ]\n}"
            }
          },
          "metadata": {},
          "execution_count": 24
        }
      ]
    },
    {
      "cell_type": "code",
      "source": [
        "models = {\n",
        "    'LightGBM': MultiOutputClassifier(lgb.LGBMClassifier(n_estimators=1000, learning_rate=0.1), n_jobs=-1),\n",
        "    'XGB': xgb.XGBClassifier(n_estimators = 500, learning_rate=0.1, learuse_label_encoder=False, eval_metric='mlogloss'),\n",
        "    'Extratrees': ExtraTreesClassifier(min_samples_leaf=1, min_samples_split=2, n_estimators=300, random_state=42)\n",
        "}\n",
        "\n",
        "# Aplicar diferentes random_states\n",
        "for random_state in [42]:\n",
        "    print(f'\\nRandom State: {random_state}')\n",
        "\n",
        "    X_train, X_test, y_train, y_test = train_test_split(X_train_temp, y_functionalities, test_size=0.2, random_state=42)\n",
        "\n",
        "    for model_name, model in models.items():\n",
        "        if hasattr(model, 'random_state'):  # Verificar si el modelo tiene el parámetro random_state\n",
        "          model.set_params(random_state=42)  # Establecer random_state\n",
        "        model.fit(X_train, y_train)\n",
        "        predictions = model.predict(X_test)\n",
        "        f1 = f1_score(y_test, predictions, average='micro')\n",
        "        print(f'{model_name} - F1 Score: {f1:.2f}')\n",
        "        report = classification_report(y_test, predictions, target_names=['Antifúngico',\t'Antiviral',\t'Antibacteriano',\t'Anti Gram +',\t'Anti Gram -',\t'AntiVIH',\t'Antiparasitario'])  # Añade los nombres de tus clases\n",
        "        print(report)\n",
        "        predictions_val = model.predict(X_val)\n",
        "        f1_val = f1_score(y_val_phase3, predictions_val, average='micro')\n",
        "        print(\"F1 en conjunto de validación:\", classification_report(y_val_phase3, predictions_val, target_names=['Antifúngico', 'Antiviral', 'Antibacteriano', 'Anti Gram +', 'Anti Gram -', 'AntiVIH', 'Antiparasitario']))"
      ],
      "metadata": {
        "colab": {
          "base_uri": "https://localhost:8080/"
        },
        "id": "l-RHuLXzEqL-",
        "outputId": "38b1239d-6a90-4c79-be85-45af83270909"
      },
      "execution_count": null,
      "outputs": [
        {
          "output_type": "stream",
          "name": "stdout",
          "text": [
            "\n",
            "Random State: 42\n",
            "LightGBM - F1 Score: 0.79\n",
            "                 precision    recall  f1-score   support\n",
            "\n",
            "    Antifúngico       0.77      0.62      0.69       970\n",
            "      Antiviral       0.78      0.61      0.69       641\n",
            " Antibacteriano       0.85      0.81      0.83      1326\n",
            "    Anti Gram +       0.83      0.85      0.84      1460\n",
            "    Anti Gram -       0.84      0.84      0.84      1458\n",
            "        AntiVIH       0.83      0.40      0.54       139\n",
            "Antiparasitario       0.62      0.13      0.21        63\n",
            "\n",
            "      micro avg       0.82      0.76      0.79      6057\n",
            "      macro avg       0.79      0.61      0.66      6057\n",
            "   weighted avg       0.82      0.76      0.78      6057\n",
            "    samples avg       0.81      0.79      0.77      6057\n",
            "\n"
          ]
        },
        {
          "output_type": "stream",
          "name": "stderr",
          "text": [
            "/usr/local/lib/python3.10/dist-packages/sklearn/metrics/_classification.py:1531: UndefinedMetricWarning: Precision is ill-defined and being set to 0.0 in samples with no predicted labels. Use `zero_division` parameter to control this behavior.\n",
            "  _warn_prf(average, modifier, f\"{metric.capitalize()} is\", len(result))\n",
            "/usr/local/lib/python3.10/dist-packages/sklearn/metrics/_classification.py:1531: UndefinedMetricWarning: Precision is ill-defined and being set to 0.0 in samples with no predicted labels. Use `zero_division` parameter to control this behavior.\n",
            "  _warn_prf(average, modifier, f\"{metric.capitalize()} is\", len(result))\n"
          ]
        },
        {
          "output_type": "stream",
          "name": "stdout",
          "text": [
            "F1 en conjunto de validación:                  precision    recall  f1-score   support\n",
            "\n",
            "    Antifúngico       0.77      0.62      0.69      1199\n",
            "      Antiviral       0.80      0.64      0.71       847\n",
            " Antibacteriano       0.84      0.82      0.83      1649\n",
            "    Anti Gram +       0.82      0.84      0.83      1729\n",
            "    Anti Gram -       0.83      0.83      0.83      1695\n",
            "        AntiVIH       0.81      0.48      0.61       180\n",
            "Antiparasitario       0.56      0.16      0.25        88\n",
            "\n",
            "      micro avg       0.81      0.76      0.78      7387\n",
            "      macro avg       0.77      0.63      0.68      7387\n",
            "   weighted avg       0.81      0.76      0.78      7387\n",
            "    samples avg       0.81      0.80      0.77      7387\n",
            "\n"
          ]
        },
        {
          "output_type": "stream",
          "name": "stderr",
          "text": [
            "/usr/local/lib/python3.10/dist-packages/xgboost/core.py:158: UserWarning: [01:54:50] WARNING: /workspace/src/learner.cc:740: \n",
            "Parameters: { \"learuse_label_encoder\" } are not used.\n",
            "\n",
            "  warnings.warn(smsg, UserWarning)\n"
          ]
        },
        {
          "output_type": "stream",
          "name": "stdout",
          "text": [
            "XGB - F1 Score: 0.79\n",
            "                 precision    recall  f1-score   support\n",
            "\n",
            "    Antifúngico       0.76      0.63      0.69       970\n",
            "      Antiviral       0.78      0.63      0.70       641\n",
            " Antibacteriano       0.85      0.81      0.83      1326\n",
            "    Anti Gram +       0.84      0.85      0.85      1460\n",
            "    Anti Gram -       0.84      0.84      0.84      1458\n",
            "        AntiVIH       0.85      0.41      0.55       139\n",
            "Antiparasitario       0.67      0.10      0.17        63\n",
            "\n",
            "      micro avg       0.83      0.76      0.79      6057\n",
            "      macro avg       0.80      0.61      0.66      6057\n",
            "   weighted avg       0.82      0.76      0.79      6057\n",
            "    samples avg       0.82      0.80      0.78      6057\n",
            "\n"
          ]
        },
        {
          "output_type": "stream",
          "name": "stderr",
          "text": [
            "/usr/local/lib/python3.10/dist-packages/sklearn/metrics/_classification.py:1531: UndefinedMetricWarning: Precision is ill-defined and being set to 0.0 in samples with no predicted labels. Use `zero_division` parameter to control this behavior.\n",
            "  _warn_prf(average, modifier, f\"{metric.capitalize()} is\", len(result))\n",
            "/usr/local/lib/python3.10/dist-packages/sklearn/metrics/_classification.py:1531: UndefinedMetricWarning: Precision is ill-defined and being set to 0.0 in samples with no predicted labels. Use `zero_division` parameter to control this behavior.\n",
            "  _warn_prf(average, modifier, f\"{metric.capitalize()} is\", len(result))\n"
          ]
        },
        {
          "output_type": "stream",
          "name": "stdout",
          "text": [
            "F1 en conjunto de validación:                  precision    recall  f1-score   support\n",
            "\n",
            "    Antifúngico       0.77      0.62      0.69      1199\n",
            "      Antiviral       0.78      0.64      0.70       847\n",
            " Antibacteriano       0.84      0.81      0.83      1649\n",
            "    Anti Gram +       0.82      0.84      0.83      1729\n",
            "    Anti Gram -       0.82      0.83      0.82      1695\n",
            "        AntiVIH       0.83      0.49      0.62       180\n",
            "Antiparasitario       0.67      0.16      0.26        88\n",
            "\n",
            "      micro avg       0.81      0.76      0.78      7387\n",
            "      macro avg       0.79      0.63      0.68      7387\n",
            "   weighted avg       0.81      0.76      0.78      7387\n",
            "    samples avg       0.80      0.79      0.77      7387\n",
            "\n",
            "Extratrees - F1 Score: 0.78\n",
            "                 precision    recall  f1-score   support\n",
            "\n",
            "    Antifúngico       0.78      0.58      0.67       970\n",
            "      Antiviral       0.79      0.58      0.67       641\n",
            " Antibacteriano       0.85      0.79      0.82      1326\n",
            "    Anti Gram +       0.84      0.85      0.84      1460\n",
            "    Anti Gram -       0.85      0.84      0.85      1458\n",
            "        AntiVIH       0.83      0.32      0.47       139\n",
            "Antiparasitario       0.40      0.06      0.11        63\n",
            "\n",
            "      micro avg       0.83      0.74      0.78      6057\n",
            "      macro avg       0.76      0.57      0.63      6057\n",
            "   weighted avg       0.83      0.74      0.78      6057\n",
            "    samples avg       0.81      0.77      0.76      6057\n",
            "\n"
          ]
        },
        {
          "output_type": "stream",
          "name": "stderr",
          "text": [
            "/usr/local/lib/python3.10/dist-packages/sklearn/metrics/_classification.py:1531: UndefinedMetricWarning: Precision is ill-defined and being set to 0.0 in samples with no predicted labels. Use `zero_division` parameter to control this behavior.\n",
            "  _warn_prf(average, modifier, f\"{metric.capitalize()} is\", len(result))\n"
          ]
        },
        {
          "output_type": "stream",
          "name": "stdout",
          "text": [
            "F1 en conjunto de validación:                  precision    recall  f1-score   support\n",
            "\n",
            "    Antifúngico       0.79      0.57      0.66      1199\n",
            "      Antiviral       0.79      0.60      0.68       847\n",
            " Antibacteriano       0.85      0.81      0.83      1649\n",
            "    Anti Gram +       0.81      0.84      0.83      1729\n",
            "    Anti Gram -       0.81      0.82      0.82      1695\n",
            "        AntiVIH       0.82      0.38      0.52       180\n",
            "Antiparasitario       0.61      0.16      0.25        88\n",
            "\n",
            "      micro avg       0.82      0.74      0.78      7387\n",
            "      macro avg       0.78      0.60      0.66      7387\n",
            "   weighted avg       0.81      0.74      0.77      7387\n",
            "    samples avg       0.80      0.78      0.76      7387\n",
            "\n"
          ]
        },
        {
          "output_type": "stream",
          "name": "stderr",
          "text": [
            "/usr/local/lib/python3.10/dist-packages/sklearn/metrics/_classification.py:1531: UndefinedMetricWarning: Precision is ill-defined and being set to 0.0 in samples with no predicted labels. Use `zero_division` parameter to control this behavior.\n",
            "  _warn_prf(average, modifier, f\"{metric.capitalize()} is\", len(result))\n"
          ]
        }
      ]
    },
    {
      "cell_type": "code",
      "source": [
        "models = {\n",
        "    'LightGBM': MultiOutputClassifier(lgb.LGBMClassifier(n_estimators=1000, learning_rate=0.1), n_jobs=-1),\n",
        "    'XGB': xgb.XGBClassifier(n_estimators=500, learning_rate=0.1, use_label_encoder=False, eval_metric='mlogloss'),\n",
        "    'Extratrees': ExtraTreesClassifier(min_samples_leaf=1, min_samples_split=2, n_estimators=300, random_state=42)\n",
        "}\n",
        "\n",
        "# Parámetros de KFold\n",
        "n_splits = 5\n",
        "mskf = MultilabelStratifiedKFold(n_splits=n_splits, shuffle=True, random_state=42)\n",
        "\n",
        "for random_state in [42]:\n",
        "    print(f'\\nRandom State: {random_state}')\n",
        "\n",
        "    fold_scores = {}\n",
        "\n",
        "    for model_name, model in models.items():\n",
        "        print(f'\\nModelo: {model_name}')\n",
        "        fold_scores[model_name] = []\n",
        "\n",
        "        for fold, (train_idx, test_idx) in enumerate(mskf.split(X_train_temp, y_functionalities)):\n",
        "            print(f'\\nFold {fold + 1}/{n_splits}')\n",
        "\n",
        "            # Dividir los datos\n",
        "            X_train, X_test = X_train_temp.iloc[train_idx], X_train_temp.iloc[test_idx]\n",
        "            y_train, y_test = y_functionalities.iloc[train_idx], y_functionalities.iloc[test_idx]\n",
        "\n",
        "            # Entrenar el modelo\n",
        "            model.fit(X_train, y_train)\n",
        "            predictions = model.predict(X_test)\n",
        "\n",
        "            # Calcular métricas\n",
        "            f1 = f1_score(y_test, predictions, average='micro')\n",
        "            fold_scores[model_name].append(f1)\n",
        "            print(f'F1 Score (Fold {fold + 1}): {f1:.2f}')\n",
        "\n",
        "            # Generar reporte\n",
        "            report = classification_report(\n",
        "                y_test, predictions,\n",
        "                target_names=['Antifúngico', 'Antiviral', 'Antibacteriano',\n",
        "                              'Anti Gram +', 'Anti Gram -', 'AntiVIH', 'Antiparasitario']\n",
        "            )\n",
        "            print(report)\n",
        "\n",
        "    # Promediar los resultados de los folds para cada modelo\n",
        "    for model_name in fold_scores:\n",
        "        avg_f1 = sum(fold_scores[model_name]) / len(fold_scores[model_name])\n",
        "        print(f'\\n{model_name} - F1 Score Promedio: {avg_f1:.2f}')\n"
      ],
      "metadata": {
        "colab": {
          "base_uri": "https://localhost:8080/"
        },
        "id": "Gl4NESK94emS",
        "outputId": "3b252fe2-cebc-4f91-abc0-de40fb03c332"
      },
      "execution_count": null,
      "outputs": [
        {
          "output_type": "stream",
          "name": "stdout",
          "text": [
            "\n",
            "Random State: 42\n",
            "\n",
            "Modelo: LightGBM\n",
            "\n",
            "Fold 1/5\n",
            "F1 Score (Fold 1): 0.79\n",
            "                 precision    recall  f1-score   support\n",
            "\n",
            "    Antifúngico       0.75      0.59      0.66       957\n",
            "      Antiviral       0.79      0.66      0.72       681\n",
            " Antibacteriano       0.86      0.79      0.82      1322\n",
            "    Anti Gram +       0.83      0.84      0.84      1411\n",
            "    Anti Gram -       0.85      0.85      0.85      1403\n",
            "        AntiVIH       0.87      0.43      0.57       154\n",
            "Antiparasitario       0.53      0.12      0.19        68\n",
            "\n",
            "      micro avg       0.83      0.75      0.79      5996\n",
            "      macro avg       0.79      0.61      0.67      5996\n",
            "   weighted avg       0.82      0.75      0.78      5996\n",
            "    samples avg       0.82      0.79      0.78      5996\n",
            "\n",
            "\n",
            "Fold 2/5\n"
          ]
        },
        {
          "output_type": "stream",
          "name": "stderr",
          "text": [
            "/usr/local/lib/python3.10/dist-packages/sklearn/metrics/_classification.py:1531: UndefinedMetricWarning: Precision is ill-defined and being set to 0.0 in samples with no predicted labels. Use `zero_division` parameter to control this behavior.\n",
            "  _warn_prf(average, modifier, f\"{metric.capitalize()} is\", len(result))\n"
          ]
        },
        {
          "output_type": "stream",
          "name": "stdout",
          "text": [
            "F1 Score (Fold 2): 0.78\n",
            "                 precision    recall  f1-score   support\n",
            "\n",
            "    Antifúngico       0.75      0.62      0.68       957\n",
            "      Antiviral       0.81      0.63      0.71       681\n",
            " Antibacteriano       0.83      0.79      0.81      1322\n",
            "    Anti Gram +       0.82      0.85      0.83      1412\n",
            "    Anti Gram -       0.82      0.84      0.83      1403\n",
            "        AntiVIH       0.83      0.43      0.57       155\n",
            "Antiparasitario       0.58      0.10      0.18        67\n",
            "\n",
            "      micro avg       0.81      0.75      0.78      5997\n",
            "      macro avg       0.78      0.61      0.66      5997\n",
            "   weighted avg       0.81      0.75      0.77      5997\n",
            "    samples avg       0.80      0.78      0.76      5997\n",
            "\n",
            "\n",
            "Fold 3/5\n"
          ]
        },
        {
          "output_type": "stream",
          "name": "stderr",
          "text": [
            "/usr/local/lib/python3.10/dist-packages/sklearn/metrics/_classification.py:1531: UndefinedMetricWarning: Precision is ill-defined and being set to 0.0 in samples with no predicted labels. Use `zero_division` parameter to control this behavior.\n",
            "  _warn_prf(average, modifier, f\"{metric.capitalize()} is\", len(result))\n"
          ]
        },
        {
          "output_type": "stream",
          "name": "stdout",
          "text": [
            "F1 Score (Fold 3): 0.78\n",
            "                 precision    recall  f1-score   support\n",
            "\n",
            "    Antifúngico       0.75      0.64      0.69       957\n",
            "      Antiviral       0.81      0.64      0.72       681\n",
            " Antibacteriano       0.84      0.79      0.81      1322\n",
            "    Anti Gram +       0.80      0.85      0.82      1411\n",
            "    Anti Gram -       0.80      0.83      0.82      1402\n",
            "        AntiVIH       0.80      0.48      0.60       155\n",
            "Antiparasitario       0.35      0.10      0.16        67\n",
            "\n",
            "      micro avg       0.80      0.76      0.78      5995\n",
            "      macro avg       0.74      0.62      0.66      5995\n",
            "   weighted avg       0.80      0.76      0.77      5995\n",
            "    samples avg       0.80      0.79      0.77      5995\n",
            "\n",
            "\n",
            "Fold 4/5\n"
          ]
        },
        {
          "output_type": "stream",
          "name": "stderr",
          "text": [
            "/usr/local/lib/python3.10/dist-packages/sklearn/metrics/_classification.py:1531: UndefinedMetricWarning: Precision is ill-defined and being set to 0.0 in samples with no predicted labels. Use `zero_division` parameter to control this behavior.\n",
            "  _warn_prf(average, modifier, f\"{metric.capitalize()} is\", len(result))\n"
          ]
        },
        {
          "output_type": "stream",
          "name": "stdout",
          "text": [
            "F1 Score (Fold 4): 0.78\n",
            "                 precision    recall  f1-score   support\n",
            "\n",
            "    Antifúngico       0.78      0.61      0.68       958\n",
            "      Antiviral       0.83      0.62      0.71       681\n",
            " Antibacteriano       0.84      0.79      0.82      1323\n",
            "    Anti Gram +       0.82      0.86      0.84      1412\n",
            "    Anti Gram -       0.81      0.84      0.83      1403\n",
            "        AntiVIH       0.88      0.41      0.56       154\n",
            "Antiparasitario       0.43      0.09      0.15        68\n",
            "\n",
            "      micro avg       0.82      0.75      0.78      5999\n",
            "      macro avg       0.77      0.60      0.65      5999\n",
            "   weighted avg       0.81      0.75      0.78      5999\n",
            "    samples avg       0.81      0.79      0.77      5999\n",
            "\n",
            "\n",
            "Fold 5/5\n"
          ]
        },
        {
          "output_type": "stream",
          "name": "stderr",
          "text": [
            "/usr/local/lib/python3.10/dist-packages/sklearn/metrics/_classification.py:1531: UndefinedMetricWarning: Precision is ill-defined and being set to 0.0 in samples with no predicted labels. Use `zero_division` parameter to control this behavior.\n",
            "  _warn_prf(average, modifier, f\"{metric.capitalize()} is\", len(result))\n"
          ]
        },
        {
          "output_type": "stream",
          "name": "stdout",
          "text": [
            "F1 Score (Fold 5): 0.79\n",
            "                 precision    recall  f1-score   support\n",
            "\n",
            "    Antifúngico       0.77      0.63      0.69       958\n",
            "      Antiviral       0.81      0.62      0.71       681\n",
            " Antibacteriano       0.84      0.79      0.81      1323\n",
            "    Anti Gram +       0.83      0.86      0.84      1411\n",
            "    Anti Gram -       0.83      0.86      0.84      1402\n",
            "        AntiVIH       0.86      0.43      0.57       155\n",
            "Antiparasitario       0.56      0.13      0.22        67\n",
            "\n",
            "      micro avg       0.82      0.76      0.79      5997\n",
            "      macro avg       0.78      0.62      0.67      5997\n",
            "   weighted avg       0.82      0.76      0.78      5997\n",
            "    samples avg       0.81      0.80      0.78      5997\n",
            "\n",
            "\n",
            "Modelo: XGB\n"
          ]
        },
        {
          "output_type": "stream",
          "name": "stderr",
          "text": [
            "/usr/local/lib/python3.10/dist-packages/sklearn/metrics/_classification.py:1531: UndefinedMetricWarning: Precision is ill-defined and being set to 0.0 in samples with no predicted labels. Use `zero_division` parameter to control this behavior.\n",
            "  _warn_prf(average, modifier, f\"{metric.capitalize()} is\", len(result))\n"
          ]
        },
        {
          "output_type": "stream",
          "name": "stdout",
          "text": [
            "\n",
            "Fold 1/5\n"
          ]
        },
        {
          "output_type": "stream",
          "name": "stderr",
          "text": [
            "/usr/local/lib/python3.10/dist-packages/xgboost/core.py:158: UserWarning: [02:23:41] WARNING: /workspace/src/learner.cc:740: \n",
            "Parameters: { \"use_label_encoder\" } are not used.\n",
            "\n",
            "  warnings.warn(smsg, UserWarning)\n"
          ]
        },
        {
          "output_type": "stream",
          "name": "stdout",
          "text": [
            "F1 Score (Fold 1): 0.79\n",
            "                 precision    recall  f1-score   support\n",
            "\n",
            "    Antifúngico       0.76      0.61      0.67       957\n",
            "      Antiviral       0.80      0.67      0.73       681\n",
            " Antibacteriano       0.86      0.79      0.82      1322\n",
            "    Anti Gram +       0.84      0.84      0.84      1411\n",
            "    Anti Gram -       0.85      0.85      0.85      1403\n",
            "        AntiVIH       0.81      0.42      0.56       154\n",
            "Antiparasitario       0.56      0.07      0.13        68\n",
            "\n",
            "      micro avg       0.83      0.75      0.79      5996\n",
            "      macro avg       0.78      0.61      0.66      5996\n",
            "   weighted avg       0.82      0.75      0.78      5996\n",
            "    samples avg       0.82      0.79      0.78      5996\n",
            "\n",
            "\n",
            "Fold 2/5\n"
          ]
        },
        {
          "output_type": "stream",
          "name": "stderr",
          "text": [
            "/usr/local/lib/python3.10/dist-packages/sklearn/metrics/_classification.py:1531: UndefinedMetricWarning: Precision is ill-defined and being set to 0.0 in samples with no predicted labels. Use `zero_division` parameter to control this behavior.\n",
            "  _warn_prf(average, modifier, f\"{metric.capitalize()} is\", len(result))\n",
            "/usr/local/lib/python3.10/dist-packages/xgboost/core.py:158: UserWarning: [02:27:43] WARNING: /workspace/src/learner.cc:740: \n",
            "Parameters: { \"use_label_encoder\" } are not used.\n",
            "\n",
            "  warnings.warn(smsg, UserWarning)\n"
          ]
        },
        {
          "output_type": "stream",
          "name": "stdout",
          "text": [
            "F1 Score (Fold 2): 0.78\n",
            "                 precision    recall  f1-score   support\n",
            "\n",
            "    Antifúngico       0.74      0.63      0.68       957\n",
            "      Antiviral       0.81      0.62      0.70       681\n",
            " Antibacteriano       0.83      0.79      0.81      1322\n",
            "    Anti Gram +       0.82      0.86      0.84      1412\n",
            "    Anti Gram -       0.82      0.84      0.83      1403\n",
            "        AntiVIH       0.82      0.41      0.54       155\n",
            "Antiparasitario       0.43      0.09      0.15        67\n",
            "\n",
            "      micro avg       0.81      0.76      0.78      5997\n",
            "      macro avg       0.75      0.61      0.65      5997\n",
            "   weighted avg       0.80      0.76      0.77      5997\n",
            "    samples avg       0.80      0.79      0.76      5997\n",
            "\n",
            "\n",
            "Fold 3/5\n"
          ]
        },
        {
          "output_type": "stream",
          "name": "stderr",
          "text": [
            "/usr/local/lib/python3.10/dist-packages/sklearn/metrics/_classification.py:1531: UndefinedMetricWarning: Precision is ill-defined and being set to 0.0 in samples with no predicted labels. Use `zero_division` parameter to control this behavior.\n",
            "  _warn_prf(average, modifier, f\"{metric.capitalize()} is\", len(result))\n",
            "/usr/local/lib/python3.10/dist-packages/xgboost/core.py:158: UserWarning: [02:31:29] WARNING: /workspace/src/learner.cc:740: \n",
            "Parameters: { \"use_label_encoder\" } are not used.\n",
            "\n",
            "  warnings.warn(smsg, UserWarning)\n"
          ]
        },
        {
          "output_type": "stream",
          "name": "stdout",
          "text": [
            "F1 Score (Fold 3): 0.78\n",
            "                 precision    recall  f1-score   support\n",
            "\n",
            "    Antifúngico       0.76      0.64      0.69       957\n",
            "      Antiviral       0.78      0.64      0.71       681\n",
            " Antibacteriano       0.84      0.80      0.82      1322\n",
            "    Anti Gram +       0.81      0.84      0.83      1411\n",
            "    Anti Gram -       0.82      0.83      0.82      1402\n",
            "        AntiVIH       0.80      0.48      0.60       155\n",
            "Antiparasitario       0.38      0.12      0.18        67\n",
            "\n",
            "      micro avg       0.81      0.76      0.78      5995\n",
            "      macro avg       0.74      0.62      0.66      5995\n",
            "   weighted avg       0.80      0.76      0.78      5995\n",
            "    samples avg       0.81      0.79      0.77      5995\n",
            "\n",
            "\n",
            "Fold 4/5\n"
          ]
        },
        {
          "output_type": "stream",
          "name": "stderr",
          "text": [
            "/usr/local/lib/python3.10/dist-packages/sklearn/metrics/_classification.py:1531: UndefinedMetricWarning: Precision is ill-defined and being set to 0.0 in samples with no predicted labels. Use `zero_division` parameter to control this behavior.\n",
            "  _warn_prf(average, modifier, f\"{metric.capitalize()} is\", len(result))\n",
            "/usr/local/lib/python3.10/dist-packages/xgboost/core.py:158: UserWarning: [02:35:09] WARNING: /workspace/src/learner.cc:740: \n",
            "Parameters: { \"use_label_encoder\" } are not used.\n",
            "\n",
            "  warnings.warn(smsg, UserWarning)\n"
          ]
        },
        {
          "output_type": "stream",
          "name": "stdout",
          "text": [
            "F1 Score (Fold 4): 0.78\n",
            "                 precision    recall  f1-score   support\n",
            "\n",
            "    Antifúngico       0.77      0.61      0.68       958\n",
            "      Antiviral       0.82      0.62      0.70       681\n",
            " Antibacteriano       0.84      0.79      0.82      1323\n",
            "    Anti Gram +       0.81      0.85      0.83      1412\n",
            "    Anti Gram -       0.81      0.84      0.83      1403\n",
            "        AntiVIH       0.89      0.41      0.56       154\n",
            "Antiparasitario       0.57      0.06      0.11        68\n",
            "\n",
            "      micro avg       0.81      0.75      0.78      5999\n",
            "      macro avg       0.79      0.60      0.65      5999\n",
            "   weighted avg       0.81      0.75      0.77      5999\n",
            "    samples avg       0.80      0.79      0.77      5999\n",
            "\n",
            "\n",
            "Fold 5/5\n"
          ]
        },
        {
          "output_type": "stream",
          "name": "stderr",
          "text": [
            "/usr/local/lib/python3.10/dist-packages/sklearn/metrics/_classification.py:1531: UndefinedMetricWarning: Precision is ill-defined and being set to 0.0 in samples with no predicted labels. Use `zero_division` parameter to control this behavior.\n",
            "  _warn_prf(average, modifier, f\"{metric.capitalize()} is\", len(result))\n",
            "/usr/local/lib/python3.10/dist-packages/xgboost/core.py:158: UserWarning: [02:38:51] WARNING: /workspace/src/learner.cc:740: \n",
            "Parameters: { \"use_label_encoder\" } are not used.\n",
            "\n",
            "  warnings.warn(smsg, UserWarning)\n"
          ]
        },
        {
          "output_type": "stream",
          "name": "stdout",
          "text": [
            "F1 Score (Fold 5): 0.79\n",
            "                 precision    recall  f1-score   support\n",
            "\n",
            "    Antifúngico       0.77      0.64      0.70       958\n",
            "      Antiviral       0.81      0.64      0.71       681\n",
            " Antibacteriano       0.83      0.79      0.81      1323\n",
            "    Anti Gram +       0.83      0.85      0.84      1411\n",
            "    Anti Gram -       0.83      0.85      0.84      1402\n",
            "        AntiVIH       0.87      0.44      0.58       155\n",
            "Antiparasitario       0.64      0.13      0.22        67\n",
            "\n",
            "      micro avg       0.82      0.76      0.79      5997\n",
            "      macro avg       0.80      0.62      0.67      5997\n",
            "   weighted avg       0.82      0.76      0.78      5997\n",
            "    samples avg       0.81      0.80      0.78      5997\n",
            "\n",
            "\n",
            "Modelo: Extratrees\n"
          ]
        },
        {
          "output_type": "stream",
          "name": "stderr",
          "text": [
            "/usr/local/lib/python3.10/dist-packages/sklearn/metrics/_classification.py:1531: UndefinedMetricWarning: Precision is ill-defined and being set to 0.0 in samples with no predicted labels. Use `zero_division` parameter to control this behavior.\n",
            "  _warn_prf(average, modifier, f\"{metric.capitalize()} is\", len(result))\n"
          ]
        },
        {
          "output_type": "stream",
          "name": "stdout",
          "text": [
            "\n",
            "Fold 1/5\n",
            "F1 Score (Fold 1): 0.78\n",
            "                 precision    recall  f1-score   support\n",
            "\n",
            "    Antifúngico       0.77      0.58      0.66       957\n",
            "      Antiviral       0.80      0.62      0.70       681\n",
            " Antibacteriano       0.86      0.76      0.81      1322\n",
            "    Anti Gram +       0.83      0.85      0.84      1411\n",
            "    Anti Gram -       0.84      0.85      0.84      1403\n",
            "        AntiVIH       0.85      0.36      0.51       154\n",
            "Antiparasitario       0.33      0.06      0.10        68\n",
            "\n",
            "      micro avg       0.83      0.74      0.78      5996\n",
            "      macro avg       0.75      0.58      0.64      5996\n",
            "   weighted avg       0.82      0.74      0.77      5996\n",
            "    samples avg       0.81      0.77      0.76      5996\n",
            "\n",
            "\n",
            "Fold 2/5\n"
          ]
        },
        {
          "output_type": "stream",
          "name": "stderr",
          "text": [
            "/usr/local/lib/python3.10/dist-packages/sklearn/metrics/_classification.py:1531: UndefinedMetricWarning: Precision is ill-defined and being set to 0.0 in samples with no predicted labels. Use `zero_division` parameter to control this behavior.\n",
            "  _warn_prf(average, modifier, f\"{metric.capitalize()} is\", len(result))\n"
          ]
        },
        {
          "output_type": "stream",
          "name": "stdout",
          "text": [
            "F1 Score (Fold 2): 0.77\n",
            "                 precision    recall  f1-score   support\n",
            "\n",
            "    Antifúngico       0.77      0.59      0.67       957\n",
            "      Antiviral       0.83      0.60      0.69       681\n",
            " Antibacteriano       0.83      0.77      0.80      1322\n",
            "    Anti Gram +       0.82      0.85      0.83      1412\n",
            "    Anti Gram -       0.82      0.84      0.83      1403\n",
            "        AntiVIH       0.93      0.32      0.48       155\n",
            "Antiparasitario       0.50      0.09      0.15        67\n",
            "\n",
            "      micro avg       0.82      0.74      0.77      5997\n",
            "      macro avg       0.79      0.58      0.64      5997\n",
            "   weighted avg       0.81      0.74      0.77      5997\n",
            "    samples avg       0.80      0.77      0.75      5997\n",
            "\n",
            "\n",
            "Fold 3/5\n"
          ]
        },
        {
          "output_type": "stream",
          "name": "stderr",
          "text": [
            "/usr/local/lib/python3.10/dist-packages/sklearn/metrics/_classification.py:1531: UndefinedMetricWarning: Precision is ill-defined and being set to 0.0 in samples with no predicted labels. Use `zero_division` parameter to control this behavior.\n",
            "  _warn_prf(average, modifier, f\"{metric.capitalize()} is\", len(result))\n"
          ]
        },
        {
          "output_type": "stream",
          "name": "stdout",
          "text": [
            "F1 Score (Fold 3): 0.77\n",
            "                 precision    recall  f1-score   support\n",
            "\n",
            "    Antifúngico       0.79      0.61      0.69       957\n",
            "      Antiviral       0.81      0.58      0.68       681\n",
            " Antibacteriano       0.84      0.79      0.81      1322\n",
            "    Anti Gram +       0.80      0.84      0.82      1411\n",
            "    Anti Gram -       0.81      0.83      0.82      1402\n",
            "        AntiVIH       0.78      0.35      0.48       155\n",
            "Antiparasitario       0.32      0.09      0.14        67\n",
            "\n",
            "      micro avg       0.81      0.74      0.77      5995\n",
            "      macro avg       0.74      0.59      0.64      5995\n",
            "   weighted avg       0.80      0.74      0.77      5995\n",
            "    samples avg       0.79      0.77      0.76      5995\n",
            "\n",
            "\n",
            "Fold 4/5\n"
          ]
        },
        {
          "output_type": "stream",
          "name": "stderr",
          "text": [
            "/usr/local/lib/python3.10/dist-packages/sklearn/metrics/_classification.py:1531: UndefinedMetricWarning: Precision is ill-defined and being set to 0.0 in samples with no predicted labels. Use `zero_division` parameter to control this behavior.\n",
            "  _warn_prf(average, modifier, f\"{metric.capitalize()} is\", len(result))\n"
          ]
        },
        {
          "output_type": "stream",
          "name": "stdout",
          "text": [
            "F1 Score (Fold 4): 0.77\n",
            "                 precision    recall  f1-score   support\n",
            "\n",
            "    Antifúngico       0.79      0.56      0.65       958\n",
            "      Antiviral       0.84      0.56      0.67       681\n",
            " Antibacteriano       0.85      0.78      0.81      1323\n",
            "    Anti Gram +       0.81      0.84      0.83      1412\n",
            "    Anti Gram -       0.80      0.83      0.82      1403\n",
            "        AntiVIH       0.93      0.34      0.50       154\n",
            "Antiparasitario       0.56      0.07      0.13        68\n",
            "\n",
            "      micro avg       0.82      0.73      0.77      5999\n",
            "      macro avg       0.80      0.57      0.63      5999\n",
            "   weighted avg       0.82      0.73      0.76      5999\n",
            "    samples avg       0.79      0.76      0.75      5999\n",
            "\n",
            "\n",
            "Fold 5/5\n"
          ]
        },
        {
          "output_type": "stream",
          "name": "stderr",
          "text": [
            "/usr/local/lib/python3.10/dist-packages/sklearn/metrics/_classification.py:1531: UndefinedMetricWarning: Precision is ill-defined and being set to 0.0 in samples with no predicted labels. Use `zero_division` parameter to control this behavior.\n",
            "  _warn_prf(average, modifier, f\"{metric.capitalize()} is\", len(result))\n"
          ]
        },
        {
          "output_type": "stream",
          "name": "stdout",
          "text": [
            "F1 Score (Fold 5): 0.78\n",
            "                 precision    recall  f1-score   support\n",
            "\n",
            "    Antifúngico       0.79      0.59      0.67       958\n",
            "      Antiviral       0.80      0.59      0.68       681\n",
            " Antibacteriano       0.84      0.79      0.81      1323\n",
            "    Anti Gram +       0.83      0.85      0.84      1411\n",
            "    Anti Gram -       0.82      0.84      0.83      1402\n",
            "        AntiVIH       0.87      0.34      0.49       155\n",
            "Antiparasitario       0.60      0.13      0.22        67\n",
            "\n",
            "      micro avg       0.82      0.74      0.78      5997\n",
            "      macro avg       0.79      0.59      0.65      5997\n",
            "   weighted avg       0.82      0.74      0.77      5997\n",
            "    samples avg       0.80      0.78      0.77      5997\n",
            "\n",
            "\n",
            "LightGBM - F1 Score Promedio: 0.78\n",
            "\n",
            "XGB - F1 Score Promedio: 0.78\n",
            "\n",
            "Extratrees - F1 Score Promedio: 0.78\n"
          ]
        },
        {
          "output_type": "stream",
          "name": "stderr",
          "text": [
            "/usr/local/lib/python3.10/dist-packages/sklearn/metrics/_classification.py:1531: UndefinedMetricWarning: Precision is ill-defined and being set to 0.0 in samples with no predicted labels. Use `zero_division` parameter to control this behavior.\n",
            "  _warn_prf(average, modifier, f\"{metric.capitalize()} is\", len(result))\n"
          ]
        }
      ]
    }
  ]
}